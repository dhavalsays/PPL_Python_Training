{
  "nbformat": 4,
  "nbformat_minor": 0,
  "metadata": {
    "colab": {
      "name": "1_list_set_dict.ipynb",
      "provenance": [],
      "collapsed_sections": []
    },
    "kernelspec": {
      "name": "python3",
      "display_name": "Python 3"
    }
  },
  "cells": [
    {
      "cell_type": "markdown",
      "metadata": {
        "id": "r4JmHu9hhCHZ",
        "colab_type": "text"
      },
      "source": [
        "# LISTS\n",
        "\n",
        "## A list is a value that contains multiple values in an ordered sequence."
      ]
    },
    {
      "cell_type": "code",
      "metadata": {
        "id": "lQY2bsH5hDYV",
        "colab_type": "code",
        "colab": {}
      },
      "source": [
        "# Define a list is simple, just put comma separated values inside square brackets\n",
        "\n",
        "# list of numbers\n",
        "[1, 2, 3, 4, 5]"
      ],
      "execution_count": 0,
      "outputs": []
    },
    {
      "cell_type": "code",
      "metadata": {
        "id": "FNwJ3FBDh1Zl",
        "colab_type": "code",
        "colab": {}
      },
      "source": [
        "# list of strings\n",
        "['apple', 'cherry', 'banana', 'Lemon', 'Grape']"
      ],
      "execution_count": 0,
      "outputs": []
    },
    {
      "cell_type": "code",
      "metadata": {
        "id": "40WVKaPTiMhC",
        "colab_type": "code",
        "colab": {}
      },
      "source": [
        "# list of mixtures\n",
        "\n",
        "[1, 'apple', 'cat', 3.1416]\n"
      ],
      "execution_count": 0,
      "outputs": []
    },
    {
      "cell_type": "code",
      "metadata": {
        "id": "BFMdBGm_ihZg",
        "colab_type": "code",
        "colab": {}
      },
      "source": [
        "# list inside list\n",
        "['apple', [1, 2, 3], 'banana']"
      ],
      "execution_count": 0,
      "outputs": []
    },
    {
      "cell_type": "code",
      "metadata": {
        "id": "99gRNRrgirez",
        "colab_type": "code",
        "colab": {}
      },
      "source": [
        "# assign a list to a variable\n",
        "fruits = ['apple', 'cherry', 'banana', 'Lemon', 'Grape']\n",
        "fruits"
      ],
      "execution_count": 0,
      "outputs": []
    },
    {
      "cell_type": "code",
      "metadata": {
        "id": "hXWF4nwN5MDq",
        "colab_type": "code",
        "colab": {}
      },
      "source": [
        "empty_list = []\n",
        "empty_list_2 = list()"
      ],
      "execution_count": 0,
      "outputs": []
    },
    {
      "cell_type": "code",
      "metadata": {
        "id": "TVX4aPMO5Sjo",
        "colab_type": "code",
        "colab": {}
      },
      "source": [
        "empty_list, empty_list_2"
      ],
      "execution_count": 0,
      "outputs": []
    },
    {
      "cell_type": "markdown",
      "metadata": {
        "id": "oxh_G1MWi_MY",
        "colab_type": "text"
      },
      "source": [
        "## Using indexes to access values in list"
      ]
    },
    {
      "cell_type": "code",
      "metadata": {
        "id": "sOifcJHAi2wY",
        "colab_type": "code",
        "colab": {}
      },
      "source": [
        "num_list = [0, 1, 2, 2, 3, 5, 6, 13, 21, 34]\n",
        "num_list[0]"
      ],
      "execution_count": 0,
      "outputs": []
    },
    {
      "cell_type": "code",
      "metadata": {
        "id": "v1PRuphXs-My",
        "colab_type": "code",
        "colab": {}
      },
      "source": [
        "num_list[4]"
      ],
      "execution_count": 0,
      "outputs": []
    },
    {
      "cell_type": "code",
      "metadata": {
        "id": "880XagOlti80",
        "colab_type": "code",
        "colab": {}
      },
      "source": [
        "fruits = ['apple', 'cherry', 'banana', 'Lemon', 'Grape']\n",
        "fruits[1]"
      ],
      "execution_count": 0,
      "outputs": []
    },
    {
      "cell_type": "code",
      "metadata": {
        "id": "zKl0a0D7to1I",
        "colab_type": "code",
        "colab": {}
      },
      "source": [
        "# lists in list\n",
        "\n",
        "num_list_2 = [[1, 2, 3], [4, 5, 6], [7, 8, 9]]\n",
        "num_list_2\n"
      ],
      "execution_count": 0,
      "outputs": []
    },
    {
      "cell_type": "code",
      "metadata": {
        "id": "i09zmPidt4ao",
        "colab_type": "code",
        "colab": {}
      },
      "source": [
        "num_list_2[1]"
      ],
      "execution_count": 0,
      "outputs": []
    },
    {
      "cell_type": "code",
      "metadata": {
        "id": "NYN-0DViuEy7",
        "colab_type": "code",
        "colab": {}
      },
      "source": [
        "num_list_2[2][0], num_list_2[2][2]"
      ],
      "execution_count": 0,
      "outputs": []
    },
    {
      "cell_type": "markdown",
      "metadata": {
        "id": "QLNO3ehYkPag",
        "colab_type": "text"
      },
      "source": [
        "## Negative Indexes"
      ]
    },
    {
      "cell_type": "code",
      "metadata": {
        "id": "pPDhBlyBkS9E",
        "colab_type": "code",
        "colab": {}
      },
      "source": [
        "num_list = [0, 1, 2, 2, 3, 5, 6, 13, 21, 34]\n",
        "\n",
        "num_list[-1]"
      ],
      "execution_count": 0,
      "outputs": []
    },
    {
      "cell_type": "code",
      "metadata": {
        "id": "dOD7SgcZuXdx",
        "colab_type": "code",
        "colab": {}
      },
      "source": [
        "num_list[-2]"
      ],
      "execution_count": 0,
      "outputs": []
    },
    {
      "cell_type": "markdown",
      "metadata": {
        "id": "azasVVDskZZJ",
        "colab_type": "text"
      },
      "source": [
        "## Getting Sublists with Slices"
      ]
    },
    {
      "cell_type": "code",
      "metadata": {
        "id": "rUmWZKG-kaMk",
        "colab_type": "code",
        "colab": {}
      },
      "source": [
        "num_list[0:3]"
      ],
      "execution_count": 0,
      "outputs": []
    },
    {
      "cell_type": "code",
      "metadata": {
        "id": "DgJpvtrJult0",
        "colab_type": "code",
        "colab": {}
      },
      "source": [
        "num_list[3:]"
      ],
      "execution_count": 0,
      "outputs": []
    },
    {
      "cell_type": "code",
      "metadata": {
        "id": "QWJkJH1Huq8j",
        "colab_type": "code",
        "colab": {}
      },
      "source": [
        "num_list[:]"
      ],
      "execution_count": 0,
      "outputs": []
    },
    {
      "cell_type": "code",
      "metadata": {
        "id": "krB2R6czuxcg",
        "colab_type": "code",
        "colab": {}
      },
      "source": [
        "sub_list = num_list[0:3]\n",
        "sub_list"
      ],
      "execution_count": 0,
      "outputs": []
    },
    {
      "cell_type": "code",
      "metadata": {
        "id": "WV8njqdku3r7",
        "colab_type": "code",
        "colab": {}
      },
      "source": [
        "sub_list[1] = 10\n",
        "sub_list"
      ],
      "execution_count": 0,
      "outputs": []
    },
    {
      "cell_type": "code",
      "metadata": {
        "id": "DJm0eN6Au9gt",
        "colab_type": "code",
        "colab": {}
      },
      "source": [
        "num_list"
      ],
      "execution_count": 0,
      "outputs": []
    },
    {
      "cell_type": "markdown",
      "metadata": {
        "id": "yVvYa4Q5ka2D",
        "colab_type": "text"
      },
      "source": [
        "## Length of list function _len()_"
      ]
    },
    {
      "cell_type": "code",
      "metadata": {
        "id": "qPHcQhWikhO6",
        "colab_type": "code",
        "colab": {}
      },
      "source": [
        "len(num_list)"
      ],
      "execution_count": 0,
      "outputs": []
    },
    {
      "cell_type": "code",
      "metadata": {
        "id": "SRo0pRtPwLmj",
        "colab_type": "code",
        "colab": {}
      },
      "source": [
        "len(fruits)"
      ],
      "execution_count": 0,
      "outputs": []
    },
    {
      "cell_type": "markdown",
      "metadata": {
        "id": "YzbgMsg9kpS7",
        "colab_type": "text"
      },
      "source": [
        "## Update list values with indexes"
      ]
    },
    {
      "cell_type": "code",
      "metadata": {
        "id": "gcaZdoSvkslu",
        "colab_type": "code",
        "colab": {}
      },
      "source": [
        "fruits = ['apple', 'cherry', 'banana', 'Lemon', 'Grape']\n",
        "fruits[2] = 'orange'"
      ],
      "execution_count": 0,
      "outputs": []
    },
    {
      "cell_type": "code",
      "metadata": {
        "id": "ePgtC7iOvMIt",
        "colab_type": "code",
        "colab": {}
      },
      "source": [
        "fruits"
      ],
      "execution_count": 0,
      "outputs": []
    },
    {
      "cell_type": "code",
      "metadata": {
        "id": "_TsogO9FvMLJ",
        "colab_type": "code",
        "colab": {}
      },
      "source": [
        "sub_list = num_list[0:3]\n",
        "sub_list"
      ],
      "execution_count": 0,
      "outputs": []
    },
    {
      "cell_type": "code",
      "metadata": {
        "id": "ZKN2vhdRvS4R",
        "colab_type": "code",
        "colab": {}
      },
      "source": [
        "sub_list[1] = 10\n",
        "sub_list"
      ],
      "execution_count": 0,
      "outputs": []
    },
    {
      "cell_type": "code",
      "metadata": {
        "id": "rXiX5dqhvMN5",
        "colab_type": "code",
        "colab": {}
      },
      "source": [
        "num_list"
      ],
      "execution_count": 0,
      "outputs": []
    },
    {
      "cell_type": "markdown",
      "metadata": {
        "id": "fz8tDYuxwRmV",
        "colab_type": "text"
      },
      "source": [
        "## Append to list"
      ]
    },
    {
      "cell_type": "code",
      "metadata": {
        "id": "b5CNFOysk0T-",
        "colab_type": "code",
        "colab": {}
      },
      "source": [
        "fruits"
      ],
      "execution_count": 0,
      "outputs": []
    },
    {
      "cell_type": "code",
      "metadata": {
        "id": "PtRysjrhwW5W",
        "colab_type": "code",
        "colab": {}
      },
      "source": [
        "fruits.append('banana')"
      ],
      "execution_count": 0,
      "outputs": []
    },
    {
      "cell_type": "code",
      "metadata": {
        "id": "oy7l1eruwdkt",
        "colab_type": "code",
        "colab": {}
      },
      "source": [
        "fruits"
      ],
      "execution_count": 0,
      "outputs": []
    },
    {
      "cell_type": "code",
      "metadata": {
        "id": "6XGzghfbwhBG",
        "colab_type": "code",
        "colab": {}
      },
      "source": [
        "fruits.append('peach')\n",
        "fruits"
      ],
      "execution_count": 0,
      "outputs": []
    },
    {
      "cell_type": "markdown",
      "metadata": {
        "id": "8Q01fdEMwv7h",
        "colab_type": "text"
      },
      "source": [
        "## List Concatenation and List Replication\n"
      ]
    },
    {
      "cell_type": "code",
      "metadata": {
        "id": "DGgCEKt-wxey",
        "colab_type": "code",
        "colab": {}
      },
      "source": [
        "fruits_nums = fruits + num_list\n",
        "fruits_nums"
      ],
      "execution_count": 0,
      "outputs": []
    },
    {
      "cell_type": "code",
      "metadata": {
        "id": "ZkEeSzaowxjz",
        "colab_type": "code",
        "colab": {}
      },
      "source": [
        "short_list = ['a', 'b', 'c']\n",
        "short_list"
      ],
      "execution_count": 0,
      "outputs": []
    },
    {
      "cell_type": "code",
      "metadata": {
        "id": "lZixEpJGyQSV",
        "colab_type": "code",
        "colab": {}
      },
      "source": [
        "short_list * 3"
      ],
      "execution_count": 0,
      "outputs": []
    },
    {
      "cell_type": "code",
      "metadata": {
        "id": "RQZxaE6twxnH",
        "colab_type": "code",
        "colab": {}
      },
      "source": [
        ""
      ],
      "execution_count": 0,
      "outputs": []
    },
    {
      "cell_type": "markdown",
      "metadata": {
        "id": "udaSrYlbk67z",
        "colab_type": "text"
      },
      "source": [
        "## Insert to list"
      ]
    },
    {
      "cell_type": "code",
      "metadata": {
        "id": "PAkSsLUqyykM",
        "colab_type": "code",
        "colab": {}
      },
      "source": [
        "fruits.insert(0, 'avocado')\n",
        "fruits"
      ],
      "execution_count": 0,
      "outputs": []
    },
    {
      "cell_type": "code",
      "metadata": {
        "id": "c5CfivTe0v_B",
        "colab_type": "code",
        "colab": {}
      },
      "source": [
        "fruits.insert(3, 'pear')"
      ],
      "execution_count": 0,
      "outputs": []
    },
    {
      "cell_type": "code",
      "metadata": {
        "id": "83pC4eRQ084z",
        "colab_type": "code",
        "colab": {}
      },
      "source": [
        "fruits"
      ],
      "execution_count": 0,
      "outputs": []
    },
    {
      "cell_type": "code",
      "metadata": {
        "id": "-64LTU-j1Re0",
        "colab_type": "code",
        "colab": {}
      },
      "source": [
        ""
      ],
      "execution_count": 0,
      "outputs": []
    },
    {
      "cell_type": "markdown",
      "metadata": {
        "id": "-v5iPpC74o0z",
        "colab_type": "text"
      },
      "source": [
        "## Removing Values from Lists with _del_ Statements\n",
        "_del_ statement removes the value at given index"
      ]
    },
    {
      "cell_type": "code",
      "metadata": {
        "id": "SLGavPPg4yf0",
        "colab_type": "code",
        "colab": {}
      },
      "source": [
        "fruits"
      ],
      "execution_count": 0,
      "outputs": []
    },
    {
      "cell_type": "code",
      "metadata": {
        "id": "5CesmZpv4ykU",
        "colab_type": "code",
        "colab": {}
      },
      "source": [
        "del fruits[3]  # remove element at index 3\n",
        "fruits"
      ],
      "execution_count": 0,
      "outputs": []
    },
    {
      "cell_type": "markdown",
      "metadata": {
        "id": "XRXCiTf15F_Y",
        "colab_type": "text"
      },
      "source": [
        "## Removing Values from Lists with _remove_ function\n",
        "Function _remove()_ removes the first matching value from the list"
      ]
    },
    {
      "cell_type": "code",
      "metadata": {
        "id": "79Fd2Ho_5L-m",
        "colab_type": "code",
        "colab": {}
      },
      "source": [
        "numbers = [3, 2, 5, 7, 9, 3, 5]\n",
        "numbers"
      ],
      "execution_count": 0,
      "outputs": []
    },
    {
      "cell_type": "code",
      "metadata": {
        "id": "eHX7e5zH5XjB",
        "colab_type": "code",
        "colab": {}
      },
      "source": [
        "numbers.remove(5)   # remove first element with value = 5\n",
        "numbers"
      ],
      "execution_count": 0,
      "outputs": []
    },
    {
      "cell_type": "code",
      "metadata": {
        "id": "oc8bFQAB5pna",
        "colab_type": "code",
        "colab": {}
      },
      "source": [
        "fruits.append('cherry')\n",
        "fruits.append('orange')\n",
        "fruits"
      ],
      "execution_count": 0,
      "outputs": []
    },
    {
      "cell_type": "code",
      "metadata": {
        "id": "KE33UJ6f5rti",
        "colab_type": "code",
        "colab": {}
      },
      "source": [
        "fruits.remove('cherry')\n",
        "fruits"
      ],
      "execution_count": 0,
      "outputs": []
    },
    {
      "cell_type": "code",
      "metadata": {
        "id": "HIBm-0nU56ZP",
        "colab_type": "code",
        "colab": {}
      },
      "source": [
        ""
      ],
      "execution_count": 0,
      "outputs": []
    },
    {
      "cell_type": "markdown",
      "metadata": {
        "id": "u6SLBZgp57X3",
        "colab_type": "text"
      },
      "source": [
        "## Removing values from Lists with _pop_ function\n",
        "function _pop()_ removes value at given index and returns it\n",
        "\n",
        "if no index is given, last value will be removed and returned"
      ]
    },
    {
      "cell_type": "code",
      "metadata": {
        "id": "a2Gj0pXp6DrM",
        "colab_type": "code",
        "colab": {}
      },
      "source": [
        "print('fruits: ', fruits)\n",
        "a = fruits.pop()     # last value if no index is given\n",
        "print('a: ', a)\n",
        "print('fruits: ', fruits)"
      ],
      "execution_count": 0,
      "outputs": []
    },
    {
      "cell_type": "code",
      "metadata": {
        "id": "UUAgPS-c6ECl",
        "colab_type": "code",
        "colab": {}
      },
      "source": [
        "b = fruits.pop()\n",
        "print('b: ', b)\n",
        "print('fruits: ', fruits)"
      ],
      "execution_count": 0,
      "outputs": []
    },
    {
      "cell_type": "code",
      "metadata": {
        "id": "2TA1bn8W6gOs",
        "colab_type": "code",
        "colab": {}
      },
      "source": [
        "print(numbers)\n",
        "n = numbers.pop(3)\n",
        "print('popped value at index 3: ', n)\n",
        "print(numbers)"
      ],
      "execution_count": 0,
      "outputs": []
    },
    {
      "cell_type": "markdown",
      "metadata": {
        "id": "kO45fRoh5iFW",
        "colab_type": "text"
      },
      "source": [
        "## For loop with list\n"
      ]
    },
    {
      "cell_type": "code",
      "metadata": {
        "id": "P7Rovo_25n-C",
        "colab_type": "code",
        "colab": {}
      },
      "source": [
        "num_list = [0, 1, 2, 2, 3, 5, 6, 13, 21, 34]\n",
        "\n",
        "# sum of the numbers in the list\n",
        "\n",
        "sum = 0\n",
        "for item in num_list:\n",
        "    sum += item\n",
        "    \n",
        "print(sum)"
      ],
      "execution_count": 0,
      "outputs": []
    },
    {
      "cell_type": "code",
      "metadata": {
        "id": "pxcMxPXA50Uf",
        "colab_type": "code",
        "colab": {}
      },
      "source": [
        "# or use index\n",
        "sum = 0\n",
        "\n",
        "for i in range(len(num_list)):\n",
        "    sum = sum + num_list[i]\n",
        "    \n",
        "print(sum)"
      ],
      "execution_count": 0,
      "outputs": []
    },
    {
      "cell_type": "code",
      "metadata": {
        "id": "52RLHprj5_b5",
        "colab_type": "code",
        "colab": {}
      },
      "source": [
        "## The in and not in Operators"
      ],
      "execution_count": 0,
      "outputs": []
    },
    {
      "cell_type": "code",
      "metadata": {
        "id": "tq26sG5w6JF7",
        "colab_type": "code",
        "colab": {}
      },
      "source": [
        ""
      ],
      "execution_count": 0,
      "outputs": []
    },
    {
      "cell_type": "markdown",
      "metadata": {
        "id": "mt7ZrmZm6czz",
        "colab_type": "text"
      },
      "source": [
        "## Sorting the Values in a List with the sort() Method"
      ]
    },
    {
      "cell_type": "code",
      "metadata": {
        "id": "uJSR-D4O8dWY",
        "colab_type": "code",
        "colab": {}
      },
      "source": [
        "numbers = [100, -23, 4.56, 290, 33, 7]\n",
        "numbers"
      ],
      "execution_count": 0,
      "outputs": []
    },
    {
      "cell_type": "code",
      "metadata": {
        "id": "1BNX3dBt8l6Z",
        "colab_type": "code",
        "colab": {}
      },
      "source": [
        "numbers.sort()\n",
        "numbers"
      ],
      "execution_count": 0,
      "outputs": []
    },
    {
      "cell_type": "code",
      "metadata": {
        "id": "aeRk7J3D8vBU",
        "colab_type": "code",
        "colab": {}
      },
      "source": [
        "numbers.sort(reverse=True)\n",
        "numbers"
      ],
      "execution_count": 0,
      "outputs": []
    },
    {
      "cell_type": "code",
      "metadata": {
        "id": "4j5rBvXv88B0",
        "colab_type": "code",
        "colab": {}
      },
      "source": [
        "fruits.sort(reverse=True)\n",
        "fruits"
      ],
      "execution_count": 0,
      "outputs": []
    },
    {
      "cell_type": "code",
      "metadata": {
        "id": "NqXZQdVQ82aI",
        "colab_type": "code",
        "colab": {}
      },
      "source": [
        "# doesn't work\n",
        "not_sortable = ['apple', 1, 3.14, 'cat']\n",
        "not_sortable.sort()"
      ],
      "execution_count": 0,
      "outputs": []
    },
    {
      "cell_type": "markdown",
      "metadata": {
        "id": "_Ps20hzX8Ohc",
        "colab_type": "text"
      },
      "source": [
        "## List-like type: Tuples\n",
        "* tuples support many operations like lists: indexing, slicing, len(), in and not operators, etc.  \n",
        "* tuples are typed with parentheses (), not square brackets []\n",
        "* tuples are IMMUTABLE, while lists are MUTABLE"
      ]
    },
    {
      "cell_type": "code",
      "metadata": {
        "id": "94Ps3gCY-s_1",
        "colab_type": "code",
        "colab": {}
      },
      "source": [
        "tom = ('Tom', 5, 3.75)\n",
        "jerry = ('Jerry', 3, 3.89)\n"
      ],
      "execution_count": 0,
      "outputs": []
    },
    {
      "cell_type": "code",
      "metadata": {
        "id": "xmoGLdwk-5eh",
        "colab_type": "code",
        "colab": {}
      },
      "source": [
        "tom[0], tom[1]"
      ],
      "execution_count": 0,
      "outputs": []
    },
    {
      "cell_type": "code",
      "metadata": {
        "id": "WEq9nqzu--N0",
        "colab_type": "code",
        "colab": {}
      },
      "source": [
        "tom[1] = 6  # doesn't work, because tuples are IMMUTABLE"
      ],
      "execution_count": 0,
      "outputs": []
    },
    {
      "cell_type": "code",
      "metadata": {
        "id": "1mRJSbIC_KmY",
        "colab_type": "code",
        "colab": {}
      },
      "source": [
        "# convert to a list\n",
        "tom_list = list(tom)\n",
        "tom_list"
      ],
      "execution_count": 0,
      "outputs": []
    },
    {
      "cell_type": "code",
      "metadata": {
        "id": "05qlR0Fj_QSt",
        "colab_type": "code",
        "colab": {}
      },
      "source": [
        "# then we can change it, because lists are MUTABLE\n",
        "tom_list[1] = 6\n",
        "tom_list"
      ],
      "execution_count": 0,
      "outputs": []
    },
    {
      "cell_type": "code",
      "metadata": {
        "id": "BoT_FW-e_XQM",
        "colab_type": "code",
        "colab": {}
      },
      "source": [
        "# we can change it back to tuple\n",
        "tom = tuple(tom_list)\n",
        "tom"
      ],
      "execution_count": 0,
      "outputs": []
    },
    {
      "cell_type": "markdown",
      "metadata": {
        "id": "VVQ5jbty6c4f",
        "colab_type": "text"
      },
      "source": [
        "## Strings are also List-like and IMMUTABLE"
      ]
    },
    {
      "cell_type": "code",
      "metadata": {
        "id": "rzCXjX7k_wby",
        "colab_type": "code",
        "colab": {}
      },
      "source": [
        "name = 'Tom'\n",
        "name[2]"
      ],
      "execution_count": 0,
      "outputs": []
    },
    {
      "cell_type": "code",
      "metadata": {
        "id": "PZ1NPQMhAJxR",
        "colab_type": "code",
        "colab": {}
      },
      "source": [
        "len(name)"
      ],
      "execution_count": 0,
      "outputs": []
    },
    {
      "cell_type": "markdown",
      "metadata": {
        "id": "eN_BhK-C6c7e",
        "colab_type": "text"
      },
      "source": [
        "## References revisited\n",
        "### remember (mutable) object references are passed by value in function argument passing?"
      ]
    },
    {
      "cell_type": "code",
      "metadata": {
        "id": "QddTa-L6A2ZQ",
        "colab_type": "code",
        "colab": {}
      },
      "source": [
        "# a number list\n",
        "outer_list = [1 ,2, 5.6, 100]\n",
        "inner_list = ['a', 'b', 'c']"
      ],
      "execution_count": 0,
      "outputs": []
    },
    {
      "cell_type": "code",
      "metadata": {
        "id": "NRDchiPZBDXz",
        "colab_type": "code",
        "colab": {}
      },
      "source": [
        "outer_list[1] = inner_list     # index 1 in a_list holds a reference to inner_list\n",
        "outer_list"
      ],
      "execution_count": 0,
      "outputs": []
    },
    {
      "cell_type": "code",
      "metadata": {
        "id": "ayZlOvN7BJeX",
        "colab_type": "code",
        "colab": {}
      },
      "source": [
        "inner_list.append('d')     # update inner_list affects outer_list\n",
        "outer_list"
      ],
      "execution_count": 0,
      "outputs": []
    },
    {
      "cell_type": "markdown",
      "metadata": {
        "id": "7Zzvm_Zq-Kny",
        "colab_type": "text"
      },
      "source": [
        "## Lists are passed by reference value"
      ]
    },
    {
      "cell_type": "code",
      "metadata": {
        "id": "uslPzCgmB5uh",
        "colab_type": "code",
        "colab": {}
      },
      "source": [
        "def append_to_list(a_list):\n",
        "    a_list.append('extra')\n",
        "    \n",
        "my_list = [1, 2, 3]\n",
        "append_to_list(my_list)\n",
        "my_list"
      ],
      "execution_count": 0,
      "outputs": []
    },
    {
      "cell_type": "markdown",
      "metadata": {
        "id": "DTy_NhAIB9Dg",
        "colab_type": "text"
      },
      "source": [
        "##List comprehension"
      ]
    },
    {
      "cell_type": "code",
      "metadata": {
        "id": "RdaTRv_k6fgt",
        "colab_type": "code",
        "colab": {}
      },
      "source": [
        "nums = [1, 2, 3, 4, 5]\n",
        "squares = [ n*n for n in nums ]\n",
        "print(squares)"
      ],
      "execution_count": 0,
      "outputs": []
    },
    {
      "cell_type": "code",
      "metadata": {
        "id": "_xlkjNT4Ec5r",
        "colab_type": "code",
        "colab": {}
      },
      "source": [
        "nums = [4, 5, 3, 6, 7, 2, 1, 9]\n",
        "odds = [ n for n in nums if n % 2 == 1]\n",
        "print(odds)"
      ],
      "execution_count": 0,
      "outputs": []
    },
    {
      "cell_type": "code",
      "metadata": {
        "id": "QxOoFKZlE554",
        "colab_type": "code",
        "colab": {}
      },
      "source": [
        "quotes = \"Imagination is more important than knowledge\"\n",
        "tokens = quotes.split()\n"
      ],
      "execution_count": 0,
      "outputs": []
    },
    {
      "cell_type": "code",
      "metadata": {
        "id": "8p1q9e0gFRt5",
        "colab_type": "code",
        "colab": {}
      },
      "source": [
        "lens = [ len(tk) for tk in quotes.split() ]\n",
        "lens"
      ],
      "execution_count": 0,
      "outputs": []
    },
    {
      "cell_type": "code",
      "metadata": {
        "id": "y4pYHU26FbUn",
        "colab_type": "code",
        "colab": {}
      },
      "source": [
        "token_lens = [ (tk, len(tk)) for tk in quotes.split() ]\n",
        "token_lens"
      ],
      "execution_count": 0,
      "outputs": []
    },
    {
      "cell_type": "markdown",
      "metadata": {
        "id": "9qatZ3AfBi9y",
        "colab_type": "text"
      },
      "source": [
        "### Practice Problems:"
      ]
    },
    {
      "cell_type": "markdown",
      "metadata": {
        "id": "CVIq4W53BoWN",
        "colab_type": "text"
      },
      "source": [
        "1. write a program that returns a list that contains only the elements that are common between two lists "
      ]
    },
    {
      "cell_type": "code",
      "metadata": {
        "id": "eIlZOJv4Bo-5",
        "colab_type": "code",
        "colab": {}
      },
      "source": [
        ""
      ],
      "execution_count": 0,
      "outputs": []
    },
    {
      "cell_type": "markdown",
      "metadata": {
        "id": "0es0GNBgBqMp",
        "colab_type": "text"
      },
      "source": [
        "2. Write a function that takes a list of numbers and makes a new list of only the first and last elements of the given list. "
      ]
    },
    {
      "cell_type": "code",
      "metadata": {
        "id": "4WZlmsrUB8rc",
        "colab_type": "code",
        "colab": {}
      },
      "source": [
        ""
      ],
      "execution_count": 0,
      "outputs": []
    },
    {
      "cell_type": "markdown",
      "metadata": {
        "id": "RKSqpr6OCCbN",
        "colab_type": "text"
      },
      "source": [
        "3. Write a function to generate the first 10 Fibonacci numbers and return the numers in a list\n",
        "\n",
        "$F_n = F_{n-1} + F_{n-2}$\n",
        "\n",
        "$F_0 = 0$\n",
        "\n",
        "$F_1 = 1$"
      ]
    },
    {
      "cell_type": "code",
      "metadata": {
        "id": "1pgDfONKCLsS",
        "colab_type": "code",
        "colab": {}
      },
      "source": [
        ""
      ],
      "execution_count": 0,
      "outputs": []
    },
    {
      "cell_type": "markdown",
      "metadata": {
        "id": "xCRuUv0tDRyd",
        "colab_type": "text"
      },
      "source": [
        "4. Write a function to reverse a string ( Friday -> yadirF)"
      ]
    },
    {
      "cell_type": "code",
      "metadata": {
        "id": "Mnq5eH65DZEN",
        "colab_type": "code",
        "colab": {}
      },
      "source": [
        ""
      ],
      "execution_count": 0,
      "outputs": []
    },
    {
      "cell_type": "markdown",
      "metadata": {
        "id": "Z68RXcuVDbre",
        "colab_type": "text"
      },
      "source": [
        "5. Write a function to reverse word order of a string containing multiple words. For example: Tom chases Jerry -> Jerry chases Tom"
      ]
    },
    {
      "cell_type": "code",
      "metadata": {
        "id": "9wSwjCerD8d9",
        "colab_type": "code",
        "colab": {}
      },
      "source": [
        ""
      ],
      "execution_count": 0,
      "outputs": []
    }
  ]
}
