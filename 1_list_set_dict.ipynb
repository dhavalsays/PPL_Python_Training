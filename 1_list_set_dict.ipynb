{
  "nbformat": 4,
  "nbformat_minor": 0,
  "metadata": {
    "colab": {
      "name": "1_list_set_dict.ipynb",
      "provenance": [],
      "collapsed_sections": []
    },
    "kernelspec": {
      "name": "python3",
      "display_name": "Python 3"
    }
  },
  "cells": [
    {
      "cell_type": "markdown",
      "metadata": {
        "id": "r4JmHu9hhCHZ",
        "colab_type": "text"
      },
      "source": [
        "# LISTS\n",
        "\n",
        "## A list is a value that contains multiple values in an ordered sequence."
      ]
    },
    {
      "cell_type": "code",
      "metadata": {
        "id": "lQY2bsH5hDYV",
        "colab_type": "code",
        "outputId": "c5b8cf4f-8b45-4f33-984e-9659320fca72",
        "colab": {
          "base_uri": "https://localhost:8080/",
          "height": 35
        }
      },
      "source": [
        "# Define a list is simple, just put comma separated values inside square brackets\n",
        "\n",
        "# list of numbers\n",
        "[1, 2, 3, 4, 5]"
      ],
      "execution_count": 0,
      "outputs": [
        {
          "output_type": "execute_result",
          "data": {
            "text/plain": [
              "[1, 2, 3, 4, 5]"
            ]
          },
          "metadata": {
            "tags": []
          },
          "execution_count": 1
        }
      ]
    },
    {
      "cell_type": "code",
      "metadata": {
        "id": "FNwJ3FBDh1Zl",
        "colab_type": "code",
        "outputId": "18517e63-8e3a-4d3d-e0fe-5398bd9067c9",
        "colab": {
          "base_uri": "https://localhost:8080/",
          "height": 35
        }
      },
      "source": [
        "# list of strings\n",
        "['apple', 'cherry', 'banana', 'Lemon', 'Grape']"
      ],
      "execution_count": 0,
      "outputs": [
        {
          "output_type": "execute_result",
          "data": {
            "text/plain": [
              "['apple', 'cherry', 'banana', 'Lemon', 'Grape']"
            ]
          },
          "metadata": {
            "tags": []
          },
          "execution_count": 2
        }
      ]
    },
    {
      "cell_type": "code",
      "metadata": {
        "id": "40WVKaPTiMhC",
        "colab_type": "code",
        "outputId": "7c2fec5b-5d7d-4308-93b7-99e28f0fb2d5",
        "colab": {
          "base_uri": "https://localhost:8080/",
          "height": 35
        }
      },
      "source": [
        "# list of mixtures\n",
        "\n",
        "[1, 'apple', 'cat', 3.1416]\n"
      ],
      "execution_count": 0,
      "outputs": [
        {
          "output_type": "execute_result",
          "data": {
            "text/plain": [
              "[1, 'apple', 'cat', 3.1416]"
            ]
          },
          "metadata": {
            "tags": []
          },
          "execution_count": 3
        }
      ]
    },
    {
      "cell_type": "code",
      "metadata": {
        "id": "BFMdBGm_ihZg",
        "colab_type": "code",
        "outputId": "97d68d1e-561e-4e7b-ac80-c6a3fcce4e9a",
        "colab": {
          "base_uri": "https://localhost:8080/",
          "height": 35
        }
      },
      "source": [
        "# list inside list\n",
        "['apple', [1, 2, 3], 'banana']"
      ],
      "execution_count": 0,
      "outputs": [
        {
          "output_type": "execute_result",
          "data": {
            "text/plain": [
              "['apple', [1, 2, 3], 'banana']"
            ]
          },
          "metadata": {
            "tags": []
          },
          "execution_count": 4
        }
      ]
    },
    {
      "cell_type": "code",
      "metadata": {
        "id": "99gRNRrgirez",
        "colab_type": "code",
        "outputId": "b927038e-302c-4096-8159-31c717a04281",
        "colab": {
          "base_uri": "https://localhost:8080/",
          "height": 35
        }
      },
      "source": [
        "# assign a list to a variable\n",
        "fruits = ['apple', 'cherry', 'banana', 'Lemon', 'Grape']\n",
        "fruits"
      ],
      "execution_count": 0,
      "outputs": [
        {
          "output_type": "execute_result",
          "data": {
            "text/plain": [
              "['apple', 'cherry', 'banana', 'Lemon', 'Grape']"
            ]
          },
          "metadata": {
            "tags": []
          },
          "execution_count": 6
        }
      ]
    },
    {
      "cell_type": "code",
      "metadata": {
        "id": "hXWF4nwN5MDq",
        "colab_type": "code",
        "colab": {}
      },
      "source": [
        "empty_list = []\n",
        "empty_list_2 = list()"
      ],
      "execution_count": 0,
      "outputs": []
    },
    {
      "cell_type": "code",
      "metadata": {
        "id": "TVX4aPMO5Sjo",
        "colab_type": "code",
        "outputId": "8c70f2d5-7810-4589-c828-c9e6680c699f",
        "colab": {
          "base_uri": "https://localhost:8080/",
          "height": 35
        }
      },
      "source": [
        "empty_list, empty_list_2"
      ],
      "execution_count": 0,
      "outputs": [
        {
          "output_type": "execute_result",
          "data": {
            "text/plain": [
              "([], [])"
            ]
          },
          "metadata": {
            "tags": []
          },
          "execution_count": 49
        }
      ]
    },
    {
      "cell_type": "markdown",
      "metadata": {
        "id": "oxh_G1MWi_MY",
        "colab_type": "text"
      },
      "source": [
        "## Using indexes to access values in list"
      ]
    },
    {
      "cell_type": "code",
      "metadata": {
        "id": "sOifcJHAi2wY",
        "colab_type": "code",
        "outputId": "5552e19a-80d7-44b7-ae2a-9771853ee95b",
        "colab": {
          "base_uri": "https://localhost:8080/",
          "height": 35
        }
      },
      "source": [
        "num_list = [0, 1, 2, 2, 3, 5, 6, 13, 21, 34]\n",
        "num_list[0]"
      ],
      "execution_count": 0,
      "outputs": [
        {
          "output_type": "execute_result",
          "data": {
            "text/plain": [
              "0"
            ]
          },
          "metadata": {
            "tags": []
          },
          "execution_count": 1
        }
      ]
    },
    {
      "cell_type": "code",
      "metadata": {
        "id": "v1PRuphXs-My",
        "colab_type": "code",
        "outputId": "d1a14773-e552-4c63-c478-8066fab60907",
        "colab": {
          "base_uri": "https://localhost:8080/",
          "height": 35
        }
      },
      "source": [
        "num_list[4]"
      ],
      "execution_count": 0,
      "outputs": [
        {
          "output_type": "execute_result",
          "data": {
            "text/plain": [
              "3"
            ]
          },
          "metadata": {
            "tags": []
          },
          "execution_count": 2
        }
      ]
    },
    {
      "cell_type": "code",
      "metadata": {
        "id": "880XagOlti80",
        "colab_type": "code",
        "outputId": "06bdf3ea-dfa7-4b0e-911d-5da34b29e6a2",
        "colab": {
          "base_uri": "https://localhost:8080/",
          "height": 35
        }
      },
      "source": [
        "fruits = ['apple', 'cherry', 'banana', 'Lemon', 'Grape']\n",
        "fruits[1]"
      ],
      "execution_count": 0,
      "outputs": [
        {
          "output_type": "execute_result",
          "data": {
            "text/plain": [
              "'cherry'"
            ]
          },
          "metadata": {
            "tags": []
          },
          "execution_count": 3
        }
      ]
    },
    {
      "cell_type": "code",
      "metadata": {
        "id": "zKl0a0D7to1I",
        "colab_type": "code",
        "outputId": "49de3038-a91b-4035-baba-16e81b1a1c1a",
        "colab": {
          "base_uri": "https://localhost:8080/",
          "height": 35
        }
      },
      "source": [
        "# lists in list\n",
        "\n",
        "num_list_2 = [[1, 2, 3], [4, 5, 6], [7, 8, 9]]\n",
        "num_list_2\n"
      ],
      "execution_count": 0,
      "outputs": [
        {
          "output_type": "execute_result",
          "data": {
            "text/plain": [
              "[[1, 2, 3], [4, 5, 6], [7, 8, 9]]"
            ]
          },
          "metadata": {
            "tags": []
          },
          "execution_count": 4
        }
      ]
    },
    {
      "cell_type": "code",
      "metadata": {
        "id": "i09zmPidt4ao",
        "colab_type": "code",
        "outputId": "27e68c1c-e27b-4162-8bb4-919ef4b84286",
        "colab": {
          "base_uri": "https://localhost:8080/",
          "height": 35
        }
      },
      "source": [
        "num_list_2[1]"
      ],
      "execution_count": 0,
      "outputs": [
        {
          "output_type": "execute_result",
          "data": {
            "text/plain": [
              "[4, 5, 6]"
            ]
          },
          "metadata": {
            "tags": []
          },
          "execution_count": 7
        }
      ]
    },
    {
      "cell_type": "code",
      "metadata": {
        "id": "NYN-0DViuEy7",
        "colab_type": "code",
        "outputId": "0e616540-ff96-43e7-a6ca-708ce9260883",
        "colab": {
          "base_uri": "https://localhost:8080/",
          "height": 35
        }
      },
      "source": [
        "num_list_2[2][0], num_list_2[2][2]"
      ],
      "execution_count": 0,
      "outputs": [
        {
          "output_type": "execute_result",
          "data": {
            "text/plain": [
              "(7, 9)"
            ]
          },
          "metadata": {
            "tags": []
          },
          "execution_count": 8
        }
      ]
    },
    {
      "cell_type": "markdown",
      "metadata": {
        "id": "QLNO3ehYkPag",
        "colab_type": "text"
      },
      "source": [
        "## Negative Indexes"
      ]
    },
    {
      "cell_type": "code",
      "metadata": {
        "id": "pPDhBlyBkS9E",
        "colab_type": "code",
        "outputId": "9c1970b1-927b-4500-f311-aa3cfdd23d1e",
        "colab": {
          "base_uri": "https://localhost:8080/",
          "height": 35
        }
      },
      "source": [
        "num_list = [0, 1, 2, 2, 3, 5, 6, 13, 21, 34]\n",
        "\n",
        "num_list[-1]"
      ],
      "execution_count": 0,
      "outputs": [
        {
          "output_type": "execute_result",
          "data": {
            "text/plain": [
              "34"
            ]
          },
          "metadata": {
            "tags": []
          },
          "execution_count": 9
        }
      ]
    },
    {
      "cell_type": "code",
      "metadata": {
        "id": "dOD7SgcZuXdx",
        "colab_type": "code",
        "outputId": "2d932795-89c3-4ad8-cdd0-144647e73d84",
        "colab": {
          "base_uri": "https://localhost:8080/",
          "height": 35
        }
      },
      "source": [
        "num_list[-2]"
      ],
      "execution_count": 0,
      "outputs": [
        {
          "output_type": "execute_result",
          "data": {
            "text/plain": [
              "21"
            ]
          },
          "metadata": {
            "tags": []
          },
          "execution_count": 10
        }
      ]
    },
    {
      "cell_type": "markdown",
      "metadata": {
        "id": "azasVVDskZZJ",
        "colab_type": "text"
      },
      "source": [
        "## Getting Sublists with Slices"
      ]
    },
    {
      "cell_type": "code",
      "metadata": {
        "id": "rUmWZKG-kaMk",
        "colab_type": "code",
        "outputId": "1e848d70-6d5a-498b-826f-cc17b08ff665",
        "colab": {
          "base_uri": "https://localhost:8080/",
          "height": 35
        }
      },
      "source": [
        "num_list[0:3]"
      ],
      "execution_count": 0,
      "outputs": [
        {
          "output_type": "execute_result",
          "data": {
            "text/plain": [
              "[0, 1, 2]"
            ]
          },
          "metadata": {
            "tags": []
          },
          "execution_count": 11
        }
      ]
    },
    {
      "cell_type": "code",
      "metadata": {
        "id": "DgJpvtrJult0",
        "colab_type": "code",
        "outputId": "c859a122-50bf-4b06-f171-968a9d340f3c",
        "colab": {
          "base_uri": "https://localhost:8080/",
          "height": 35
        }
      },
      "source": [
        "num_list[3:]"
      ],
      "execution_count": 0,
      "outputs": [
        {
          "output_type": "execute_result",
          "data": {
            "text/plain": [
              "[2, 3, 5, 6, 13, 21, 34]"
            ]
          },
          "metadata": {
            "tags": []
          },
          "execution_count": 12
        }
      ]
    },
    {
      "cell_type": "code",
      "metadata": {
        "id": "QWJkJH1Huq8j",
        "colab_type": "code",
        "outputId": "9cc80adc-ed43-4555-b954-21cdd897d724",
        "colab": {
          "base_uri": "https://localhost:8080/",
          "height": 35
        }
      },
      "source": [
        "num_list[:]"
      ],
      "execution_count": 0,
      "outputs": [
        {
          "output_type": "execute_result",
          "data": {
            "text/plain": [
              "[0, 1, 2, 2, 3, 5, 6, 13, 21, 34]"
            ]
          },
          "metadata": {
            "tags": []
          },
          "execution_count": 13
        }
      ]
    },
    {
      "cell_type": "code",
      "metadata": {
        "id": "krB2R6czuxcg",
        "colab_type": "code",
        "outputId": "d7e61999-894a-4d68-84d9-0663116463da",
        "colab": {
          "base_uri": "https://localhost:8080/",
          "height": 35
        }
      },
      "source": [
        "sub_list = num_list[0:3]\n",
        "sub_list"
      ],
      "execution_count": 0,
      "outputs": [
        {
          "output_type": "execute_result",
          "data": {
            "text/plain": [
              "[0, 1, 2]"
            ]
          },
          "metadata": {
            "tags": []
          },
          "execution_count": 14
        }
      ]
    },
    {
      "cell_type": "code",
      "metadata": {
        "id": "WV8njqdku3r7",
        "colab_type": "code",
        "outputId": "46e91a97-449f-4572-c33b-fef743b1bc7f",
        "colab": {
          "base_uri": "https://localhost:8080/",
          "height": 35
        }
      },
      "source": [
        "sub_list[1] = 10\n",
        "sub_list"
      ],
      "execution_count": 0,
      "outputs": [
        {
          "output_type": "execute_result",
          "data": {
            "text/plain": [
              "[0, 10, 2]"
            ]
          },
          "metadata": {
            "tags": []
          },
          "execution_count": 16
        }
      ]
    },
    {
      "cell_type": "code",
      "metadata": {
        "id": "DJm0eN6Au9gt",
        "colab_type": "code",
        "outputId": "7cf402c4-22ec-45b5-cbb6-8fc0b9562a25",
        "colab": {
          "base_uri": "https://localhost:8080/",
          "height": 35
        }
      },
      "source": [
        "num_list"
      ],
      "execution_count": 0,
      "outputs": [
        {
          "output_type": "execute_result",
          "data": {
            "text/plain": [
              "[0, 1, 2, 2, 3, 5, 6, 13, 21, 34]"
            ]
          },
          "metadata": {
            "tags": []
          },
          "execution_count": 17
        }
      ]
    },
    {
      "cell_type": "markdown",
      "metadata": {
        "id": "yVvYa4Q5ka2D",
        "colab_type": "text"
      },
      "source": [
        "## Length of list function _len()_"
      ]
    },
    {
      "cell_type": "code",
      "metadata": {
        "id": "qPHcQhWikhO6",
        "colab_type": "code",
        "outputId": "a778df6a-25bc-410f-a599-d76c9388a541",
        "colab": {
          "base_uri": "https://localhost:8080/",
          "height": 35
        }
      },
      "source": [
        "len(num_list)"
      ],
      "execution_count": 0,
      "outputs": [
        {
          "output_type": "execute_result",
          "data": {
            "text/plain": [
              "10"
            ]
          },
          "metadata": {
            "tags": []
          },
          "execution_count": 21
        }
      ]
    },
    {
      "cell_type": "code",
      "metadata": {
        "id": "SRo0pRtPwLmj",
        "colab_type": "code",
        "outputId": "7b2f7062-b94c-4922-b135-3b6d522bd9f9",
        "colab": {
          "base_uri": "https://localhost:8080/",
          "height": 35
        }
      },
      "source": [
        "len(fruits)"
      ],
      "execution_count": 0,
      "outputs": [
        {
          "output_type": "execute_result",
          "data": {
            "text/plain": [
              "5"
            ]
          },
          "metadata": {
            "tags": []
          },
          "execution_count": 22
        }
      ]
    },
    {
      "cell_type": "markdown",
      "metadata": {
        "id": "YzbgMsg9kpS7",
        "colab_type": "text"
      },
      "source": [
        "## Update list values with indexes"
      ]
    },
    {
      "cell_type": "code",
      "metadata": {
        "id": "gcaZdoSvkslu",
        "colab_type": "code",
        "colab": {}
      },
      "source": [
        "fruits = ['apple', 'cherry', 'banana', 'Lemon', 'Grape']\n",
        "fruits[2] = 'orange'"
      ],
      "execution_count": 0,
      "outputs": []
    },
    {
      "cell_type": "code",
      "metadata": {
        "id": "ePgtC7iOvMIt",
        "colab_type": "code",
        "outputId": "398d0c5b-4584-4b60-8843-c71f248e296a",
        "colab": {
          "base_uri": "https://localhost:8080/",
          "height": 35
        }
      },
      "source": [
        "fruits"
      ],
      "execution_count": 0,
      "outputs": [
        {
          "output_type": "execute_result",
          "data": {
            "text/plain": [
              "['apple', 'cherry', 'orange', 'Lemon', 'Grape']"
            ]
          },
          "metadata": {
            "tags": []
          },
          "execution_count": 20
        }
      ]
    },
    {
      "cell_type": "code",
      "metadata": {
        "id": "_TsogO9FvMLJ",
        "colab_type": "code",
        "colab": {}
      },
      "source": [
        "sub_list = num_list[0:3]\n",
        "sub_list"
      ],
      "execution_count": 0,
      "outputs": []
    },
    {
      "cell_type": "code",
      "metadata": {
        "id": "ZKN2vhdRvS4R",
        "colab_type": "code",
        "colab": {}
      },
      "source": [
        "sub_list[1] = 10\n",
        "sub_list"
      ],
      "execution_count": 0,
      "outputs": []
    },
    {
      "cell_type": "code",
      "metadata": {
        "id": "rXiX5dqhvMN5",
        "colab_type": "code",
        "colab": {}
      },
      "source": [
        "num_list"
      ],
      "execution_count": 0,
      "outputs": []
    },
    {
      "cell_type": "markdown",
      "metadata": {
        "id": "fz8tDYuxwRmV",
        "colab_type": "text"
      },
      "source": [
        "## Append to list"
      ]
    },
    {
      "cell_type": "code",
      "metadata": {
        "id": "b5CNFOysk0T-",
        "colab_type": "code",
        "outputId": "3e7d8d77-866a-4a7b-d65d-864de244bd9b",
        "colab": {
          "base_uri": "https://localhost:8080/",
          "height": 35
        }
      },
      "source": [
        "fruits"
      ],
      "execution_count": 0,
      "outputs": [
        {
          "output_type": "execute_result",
          "data": {
            "text/plain": [
              "['apple', 'cherry', 'orange', 'Lemon', 'Grape']"
            ]
          },
          "metadata": {
            "tags": []
          },
          "execution_count": 23
        }
      ]
    },
    {
      "cell_type": "code",
      "metadata": {
        "id": "PtRysjrhwW5W",
        "colab_type": "code",
        "colab": {}
      },
      "source": [
        "fruits.append('banana')"
      ],
      "execution_count": 0,
      "outputs": []
    },
    {
      "cell_type": "code",
      "metadata": {
        "id": "oy7l1eruwdkt",
        "colab_type": "code",
        "outputId": "737bab2c-8457-4ffe-b6d2-9b9515acbd69",
        "colab": {
          "base_uri": "https://localhost:8080/",
          "height": 35
        }
      },
      "source": [
        "fruits"
      ],
      "execution_count": 0,
      "outputs": [
        {
          "output_type": "execute_result",
          "data": {
            "text/plain": [
              "['apple', 'cherry', 'orange', 'Lemon', 'Grape', 'banana']"
            ]
          },
          "metadata": {
            "tags": []
          },
          "execution_count": 25
        }
      ]
    },
    {
      "cell_type": "code",
      "metadata": {
        "id": "6XGzghfbwhBG",
        "colab_type": "code",
        "outputId": "18082b19-4e41-4332-a348-29ee76f215b8",
        "colab": {
          "base_uri": "https://localhost:8080/",
          "height": 35
        }
      },
      "source": [
        "fruits.append('peach')\n",
        "fruits"
      ],
      "execution_count": 0,
      "outputs": [
        {
          "output_type": "execute_result",
          "data": {
            "text/plain": [
              "['apple', 'cherry', 'orange', 'Lemon', 'Grape', 'banana', 'peach']"
            ]
          },
          "metadata": {
            "tags": []
          },
          "execution_count": 26
        }
      ]
    },
    {
      "cell_type": "markdown",
      "metadata": {
        "id": "8Q01fdEMwv7h",
        "colab_type": "text"
      },
      "source": [
        "## List Concatenation and List Replication\n"
      ]
    },
    {
      "cell_type": "code",
      "metadata": {
        "id": "DGgCEKt-wxey",
        "colab_type": "code",
        "colab": {}
      },
      "source": [
        "fruits_nums = fruits + num_list\n",
        "fruits_nums"
      ],
      "execution_count": 0,
      "outputs": []
    },
    {
      "cell_type": "code",
      "metadata": {
        "id": "ZkEeSzaowxjz",
        "colab_type": "code",
        "outputId": "86e79ccb-9258-4bb5-825a-df35570e11ec",
        "colab": {
          "base_uri": "https://localhost:8080/",
          "height": 35
        }
      },
      "source": [
        "short_list = ['a', 'b', 'c']\n",
        "short_list"
      ],
      "execution_count": 0,
      "outputs": [
        {
          "output_type": "execute_result",
          "data": {
            "text/plain": [
              "['a', 'b', 'c']"
            ]
          },
          "metadata": {
            "tags": []
          },
          "execution_count": 30
        }
      ]
    },
    {
      "cell_type": "code",
      "metadata": {
        "id": "lZixEpJGyQSV",
        "colab_type": "code",
        "outputId": "5ebf9eb9-fc20-4377-b559-3b23ed273143",
        "colab": {
          "base_uri": "https://localhost:8080/",
          "height": 35
        }
      },
      "source": [
        "short_list * 3"
      ],
      "execution_count": 0,
      "outputs": [
        {
          "output_type": "execute_result",
          "data": {
            "text/plain": [
              "['a', 'b', 'c', 'a', 'b', 'c', 'a', 'b', 'c']"
            ]
          },
          "metadata": {
            "tags": []
          },
          "execution_count": 33
        }
      ]
    },
    {
      "cell_type": "code",
      "metadata": {
        "id": "RQZxaE6twxnH",
        "colab_type": "code",
        "colab": {}
      },
      "source": [
        ""
      ],
      "execution_count": 0,
      "outputs": []
    },
    {
      "cell_type": "markdown",
      "metadata": {
        "id": "udaSrYlbk67z",
        "colab_type": "text"
      },
      "source": [
        "## Insert to list"
      ]
    },
    {
      "cell_type": "code",
      "metadata": {
        "id": "PAkSsLUqyykM",
        "colab_type": "code",
        "outputId": "43b7c102-ba83-42c9-f566-5363298e4a6e",
        "colab": {
          "base_uri": "https://localhost:8080/",
          "height": 35
        }
      },
      "source": [
        "fruits.insert(0, 'avocado')\n",
        "fruits"
      ],
      "execution_count": 0,
      "outputs": [
        {
          "output_type": "execute_result",
          "data": {
            "text/plain": [
              "['avocado', 'apple', 'cherry', 'orange', 'peach']"
            ]
          },
          "metadata": {
            "tags": []
          },
          "execution_count": 40
        }
      ]
    },
    {
      "cell_type": "code",
      "metadata": {
        "id": "c5CfivTe0v_B",
        "colab_type": "code",
        "colab": {}
      },
      "source": [
        "fruits.insert(3, 'pear')"
      ],
      "execution_count": 0,
      "outputs": []
    },
    {
      "cell_type": "code",
      "metadata": {
        "id": "83pC4eRQ084z",
        "colab_type": "code",
        "outputId": "976c2b54-c98e-40d9-c7c4-b4849db9fa95",
        "colab": {
          "base_uri": "https://localhost:8080/",
          "height": 35
        }
      },
      "source": [
        "fruits"
      ],
      "execution_count": 0,
      "outputs": [
        {
          "output_type": "execute_result",
          "data": {
            "text/plain": [
              "['avocado', 'apple', 'cherry', 'pear', 'orange', 'peach']"
            ]
          },
          "metadata": {
            "tags": []
          },
          "execution_count": 42
        }
      ]
    },
    {
      "cell_type": "code",
      "metadata": {
        "id": "-64LTU-j1Re0",
        "colab_type": "code",
        "colab": {}
      },
      "source": [
        ""
      ],
      "execution_count": 0,
      "outputs": []
    },
    {
      "cell_type": "markdown",
      "metadata": {
        "id": "-v5iPpC74o0z",
        "colab_type": "text"
      },
      "source": [
        "## Removing Values from Lists with _del_ Statements\n",
        "_del_ statement removes the value at given index"
      ]
    },
    {
      "cell_type": "code",
      "metadata": {
        "id": "SLGavPPg4yf0",
        "colab_type": "code",
        "outputId": "5de3c611-7354-49c4-8eb7-e0bae0ab7014",
        "colab": {
          "base_uri": "https://localhost:8080/",
          "height": 35
        }
      },
      "source": [
        "fruits"
      ],
      "execution_count": 0,
      "outputs": [
        {
          "output_type": "execute_result",
          "data": {
            "text/plain": [
              "['apple', 'cherry', 'orange', 'Lemon', 'Grape']"
            ]
          },
          "metadata": {
            "tags": []
          },
          "execution_count": 3
        }
      ]
    },
    {
      "cell_type": "code",
      "metadata": {
        "id": "5CesmZpv4ykU",
        "colab_type": "code",
        "outputId": "3ff0f08d-6576-4931-d1f9-992b6dec8e0e",
        "colab": {
          "base_uri": "https://localhost:8080/",
          "height": 35
        }
      },
      "source": [
        "del fruits[3]  # remove element at index 3\n",
        "fruits"
      ],
      "execution_count": 0,
      "outputs": [
        {
          "output_type": "execute_result",
          "data": {
            "text/plain": [
              "['apple', 'cherry', 'orange', 'Grape']"
            ]
          },
          "metadata": {
            "tags": []
          },
          "execution_count": 4
        }
      ]
    },
    {
      "cell_type": "markdown",
      "metadata": {
        "id": "XRXCiTf15F_Y",
        "colab_type": "text"
      },
      "source": [
        "## Removing Values from Lists with _remove_ function\n",
        "Function _remove()_ removes the first matching value from the list"
      ]
    },
    {
      "cell_type": "code",
      "metadata": {
        "id": "79Fd2Ho_5L-m",
        "colab_type": "code",
        "outputId": "7b92bab4-8bf2-416a-a3c6-8bc6aad5d578",
        "colab": {
          "base_uri": "https://localhost:8080/",
          "height": 35
        }
      },
      "source": [
        "numbers = [3, 2, 5, 7, 9, 3, 5]\n",
        "numbers"
      ],
      "execution_count": 0,
      "outputs": [
        {
          "output_type": "execute_result",
          "data": {
            "text/plain": [
              "[3, 2, 4, 5, 7, 9, 3, 5]"
            ]
          },
          "metadata": {
            "tags": []
          },
          "execution_count": 6
        }
      ]
    },
    {
      "cell_type": "code",
      "metadata": {
        "id": "eHX7e5zH5XjB",
        "colab_type": "code",
        "outputId": "1e0a15fa-426f-472b-e5b3-692f85165d0e",
        "colab": {
          "base_uri": "https://localhost:8080/",
          "height": 35
        }
      },
      "source": [
        "numbers.remove(5)   # remove first element with value = 5\n",
        "numbers"
      ],
      "execution_count": 0,
      "outputs": [
        {
          "output_type": "execute_result",
          "data": {
            "text/plain": [
              "[3, 2, 4, 7, 9, 3, 5]"
            ]
          },
          "metadata": {
            "tags": []
          },
          "execution_count": 7
        }
      ]
    },
    {
      "cell_type": "code",
      "metadata": {
        "id": "oc8bFQAB5pna",
        "colab_type": "code",
        "outputId": "9cd7dd6c-6b94-4208-9c16-a6d7524cd3b1",
        "colab": {
          "base_uri": "https://localhost:8080/",
          "height": 35
        }
      },
      "source": [
        "fruits.append('cherry')\n",
        "fruits.append('orange')\n",
        "fruits"
      ],
      "execution_count": 0,
      "outputs": [
        {
          "output_type": "execute_result",
          "data": {
            "text/plain": [
              "['apple', 'cherry', 'orange', 'Grape', 'cherry', 'orange']"
            ]
          },
          "metadata": {
            "tags": []
          },
          "execution_count": 9
        }
      ]
    },
    {
      "cell_type": "code",
      "metadata": {
        "id": "KE33UJ6f5rti",
        "colab_type": "code",
        "outputId": "9246a076-59c3-49ad-d1ee-63b26c740747",
        "colab": {
          "base_uri": "https://localhost:8080/",
          "height": 35
        }
      },
      "source": [
        "fruits.remove('cherry')\n",
        "fruits"
      ],
      "execution_count": 0,
      "outputs": [
        {
          "output_type": "execute_result",
          "data": {
            "text/plain": [
              "['apple', 'orange', 'Grape', 'cherry', 'orange']"
            ]
          },
          "metadata": {
            "tags": []
          },
          "execution_count": 10
        }
      ]
    },
    {
      "cell_type": "code",
      "metadata": {
        "id": "HIBm-0nU56ZP",
        "colab_type": "code",
        "colab": {}
      },
      "source": [
        ""
      ],
      "execution_count": 0,
      "outputs": []
    },
    {
      "cell_type": "markdown",
      "metadata": {
        "id": "u6SLBZgp57X3",
        "colab_type": "text"
      },
      "source": [
        "## Removing values from Lists with _pop_ function\n",
        "function _pop()_ removes value at given index and returns it\n",
        "\n",
        "if no index is given, last value will be removed and returned"
      ]
    },
    {
      "cell_type": "code",
      "metadata": {
        "id": "a2Gj0pXp6DrM",
        "colab_type": "code",
        "outputId": "19f938cf-8a30-4594-fa02-97aeac010708",
        "colab": {
          "base_uri": "https://localhost:8080/",
          "height": 69
        }
      },
      "source": [
        "print('fruits: ', fruits)\n",
        "a = fruits.pop()     # last value if no index is given\n",
        "print('a: ', a)\n",
        "print('fruits: ', fruits)"
      ],
      "execution_count": 0,
      "outputs": [
        {
          "output_type": "stream",
          "text": [
            "fruits:  ['apple', 'orange']\n",
            "a:  orange\n",
            "fruits:  ['apple']\n"
          ],
          "name": "stdout"
        }
      ]
    },
    {
      "cell_type": "code",
      "metadata": {
        "id": "UUAgPS-c6ECl",
        "colab_type": "code",
        "outputId": "71ce6b91-a5fd-476e-9a2c-98cb9db23790",
        "colab": {
          "base_uri": "https://localhost:8080/",
          "height": 52
        }
      },
      "source": [
        "b = fruits.pop()\n",
        "print('b: ', b)\n",
        "print('fruits: ', fruits)"
      ],
      "execution_count": 0,
      "outputs": [
        {
          "output_type": "stream",
          "text": [
            "a:  cherry\n",
            "fruits:  ['apple', 'orange', 'Grape']\n"
          ],
          "name": "stdout"
        }
      ]
    },
    {
      "cell_type": "code",
      "metadata": {
        "id": "2TA1bn8W6gOs",
        "colab_type": "code",
        "outputId": "a7c6c4bf-4974-467e-d82f-453b89ebef72",
        "colab": {
          "base_uri": "https://localhost:8080/",
          "height": 69
        }
      },
      "source": [
        "print(numbers)\n",
        "n = numbers.pop(3)\n",
        "print('popped value at index 3: ', n)\n",
        "print(numbers)"
      ],
      "execution_count": 0,
      "outputs": [
        {
          "output_type": "stream",
          "text": [
            "[3, 2, 4, 7, 9, 3, 5]\n",
            "popped value at index 3:  7\n",
            "[3, 2, 4, 9, 3, 5]\n"
          ],
          "name": "stdout"
        }
      ]
    },
    {
      "cell_type": "markdown",
      "metadata": {
        "id": "kO45fRoh5iFW",
        "colab_type": "text"
      },
      "source": [
        "## For loop with list\n"
      ]
    },
    {
      "cell_type": "code",
      "metadata": {
        "id": "P7Rovo_25n-C",
        "colab_type": "code",
        "outputId": "03a3ecdd-6ab5-496a-fa87-d866df2617fd",
        "colab": {
          "base_uri": "https://localhost:8080/",
          "height": 35
        }
      },
      "source": [
        "num_list = [0, 1, 2, 2, 3, 5, 6, 13, 21, 34]\n",
        "\n",
        "# sum of the numbers in the list\n",
        "\n",
        "sum = 0\n",
        "for item in num_list:\n",
        "    sum += item\n",
        "    \n",
        "print(sum)"
      ],
      "execution_count": 0,
      "outputs": [
        {
          "output_type": "stream",
          "text": [
            "87\n"
          ],
          "name": "stdout"
        }
      ]
    },
    {
      "cell_type": "code",
      "metadata": {
        "id": "pxcMxPXA50Uf",
        "colab_type": "code",
        "outputId": "5bd85826-ca60-49de-cd9d-d7e4a9fdaca1",
        "colab": {
          "base_uri": "https://localhost:8080/",
          "height": 35
        }
      },
      "source": [
        "# or use index\n",
        "sum = 0\n",
        "\n",
        "for i in range(len(num_list)):\n",
        "    sum = sum + num_list[i]\n",
        "    \n",
        "print(sum)"
      ],
      "execution_count": 0,
      "outputs": [
        {
          "output_type": "stream",
          "text": [
            "87\n"
          ],
          "name": "stdout"
        }
      ]
    },
    {
      "cell_type": "code",
      "metadata": {
        "id": "52RLHprj5_b5",
        "colab_type": "code",
        "colab": {}
      },
      "source": [
        "## The in and not in Operators"
      ],
      "execution_count": 0,
      "outputs": []
    },
    {
      "cell_type": "code",
      "metadata": {
        "id": "tq26sG5w6JF7",
        "colab_type": "code",
        "colab": {}
      },
      "source": [
        ""
      ],
      "execution_count": 0,
      "outputs": []
    },
    {
      "cell_type": "markdown",
      "metadata": {
        "id": "mt7ZrmZm6czz",
        "colab_type": "text"
      },
      "source": [
        "## Sorting the Values in a List with the sort() Method"
      ]
    },
    {
      "cell_type": "code",
      "metadata": {
        "id": "uJSR-D4O8dWY",
        "colab_type": "code",
        "outputId": "60a95d6c-6ae6-4aa3-b0ed-9d4af7c4cca1",
        "colab": {
          "base_uri": "https://localhost:8080/",
          "height": 35
        }
      },
      "source": [
        "numbers = [100, -23, 4.56, 290, 33, 7]\n",
        "numbers"
      ],
      "execution_count": 0,
      "outputs": [
        {
          "output_type": "execute_result",
          "data": {
            "text/plain": [
              "[100, -23, 4.56, 290, 33, 7]"
            ]
          },
          "metadata": {
            "tags": []
          },
          "execution_count": 23
        }
      ]
    },
    {
      "cell_type": "code",
      "metadata": {
        "id": "1BNX3dBt8l6Z",
        "colab_type": "code",
        "outputId": "5aeca659-e462-4efb-c0ca-1b3f95ef0c1c",
        "colab": {
          "base_uri": "https://localhost:8080/",
          "height": 35
        }
      },
      "source": [
        "numbers.sort()\n",
        "numbers"
      ],
      "execution_count": 0,
      "outputs": [
        {
          "output_type": "execute_result",
          "data": {
            "text/plain": [
              "[-23, 4.56, 7, 33, 100, 290]"
            ]
          },
          "metadata": {
            "tags": []
          },
          "execution_count": 24
        }
      ]
    },
    {
      "cell_type": "code",
      "metadata": {
        "id": "aeRk7J3D8vBU",
        "colab_type": "code",
        "outputId": "6b1df789-8a92-44f6-8b9a-1e03b4fbcb91",
        "colab": {
          "base_uri": "https://localhost:8080/",
          "height": 35
        }
      },
      "source": [
        "numbers.sort(reverse=True)\n",
        "numbers"
      ],
      "execution_count": 0,
      "outputs": [
        {
          "output_type": "execute_result",
          "data": {
            "text/plain": [
              "[290, 100, 33, 7, 4.56, -23]"
            ]
          },
          "metadata": {
            "tags": []
          },
          "execution_count": 25
        }
      ]
    },
    {
      "cell_type": "code",
      "metadata": {
        "id": "4j5rBvXv88B0",
        "colab_type": "code",
        "outputId": "fdc5572d-ea59-4fa4-e88e-cc9546558691",
        "colab": {
          "base_uri": "https://localhost:8080/",
          "height": 35
        }
      },
      "source": [
        "fruits.sort(reverse=True)\n",
        "fruits"
      ],
      "execution_count": 0,
      "outputs": [
        {
          "output_type": "execute_result",
          "data": {
            "text/plain": [
              "['orange', 'cherry', 'apple', 'Lemon', 'Grape']"
            ]
          },
          "metadata": {
            "tags": []
          },
          "execution_count": 28
        }
      ]
    },
    {
      "cell_type": "code",
      "metadata": {
        "id": "NqXZQdVQ82aI",
        "colab_type": "code",
        "colab": {}
      },
      "source": [
        "# doesn't work\n",
        "not_sortable = ['apple', 1, 3.14, 'cat']\n",
        "not_sortable.sort()"
      ],
      "execution_count": 0,
      "outputs": []
    },
    {
      "cell_type": "markdown",
      "metadata": {
        "id": "_Ps20hzX8Ohc",
        "colab_type": "text"
      },
      "source": [
        "## List-like type: Tuples\n",
        "* tuples support many operations like lists: indexing, slicing, len(), in and not operators, etc.  \n",
        "* tuples are typed with parentheses (), not square brackets []\n",
        "* tuples are IMMUTABLE, while lists are MUTABLE"
      ]
    },
    {
      "cell_type": "code",
      "metadata": {
        "id": "94Ps3gCY-s_1",
        "colab_type": "code",
        "colab": {}
      },
      "source": [
        "tom = ('Tom', 5, 3.75)\n",
        "jerry = ('Jerry', 3, 3.89)\n"
      ],
      "execution_count": 0,
      "outputs": []
    },
    {
      "cell_type": "code",
      "metadata": {
        "id": "xmoGLdwk-5eh",
        "colab_type": "code",
        "outputId": "c4585c3c-619c-4a16-fd4e-d8acabd71e19",
        "colab": {
          "base_uri": "https://localhost:8080/",
          "height": 35
        }
      },
      "source": [
        "tom[0], tom[1]"
      ],
      "execution_count": 0,
      "outputs": [
        {
          "output_type": "execute_result",
          "data": {
            "text/plain": [
              "('Tom', 5)"
            ]
          },
          "metadata": {
            "tags": []
          },
          "execution_count": 32
        }
      ]
    },
    {
      "cell_type": "code",
      "metadata": {
        "id": "WEq9nqzu--N0",
        "colab_type": "code",
        "colab": {}
      },
      "source": [
        "tom[1] = 6  # doesn't work, because tuples are IMMUTABLE"
      ],
      "execution_count": 0,
      "outputs": []
    },
    {
      "cell_type": "code",
      "metadata": {
        "id": "1mRJSbIC_KmY",
        "colab_type": "code",
        "outputId": "87f6ee1e-e16e-4310-86e2-d69e56822c36",
        "colab": {
          "base_uri": "https://localhost:8080/",
          "height": 35
        }
      },
      "source": [
        "# convert to a list\n",
        "tom_list = list(tom)\n",
        "tom_list"
      ],
      "execution_count": 0,
      "outputs": [
        {
          "output_type": "execute_result",
          "data": {
            "text/plain": [
              "['Tom', 5, 3.75]"
            ]
          },
          "metadata": {
            "tags": []
          },
          "execution_count": 34
        }
      ]
    },
    {
      "cell_type": "code",
      "metadata": {
        "id": "05qlR0Fj_QSt",
        "colab_type": "code",
        "outputId": "201b7854-3c89-4f85-d910-bdcbbdf2559d",
        "colab": {
          "base_uri": "https://localhost:8080/",
          "height": 35
        }
      },
      "source": [
        "# then we can change it, because lists are MUTABLE\n",
        "tom_list[1] = 6\n",
        "tom_list"
      ],
      "execution_count": 0,
      "outputs": [
        {
          "output_type": "execute_result",
          "data": {
            "text/plain": [
              "['Tom', 6, 3.75]"
            ]
          },
          "metadata": {
            "tags": []
          },
          "execution_count": 37
        }
      ]
    },
    {
      "cell_type": "code",
      "metadata": {
        "id": "BoT_FW-e_XQM",
        "colab_type": "code",
        "outputId": "38e0a0bf-2e82-49d8-a872-bd9df62c810b",
        "colab": {
          "base_uri": "https://localhost:8080/",
          "height": 35
        }
      },
      "source": [
        "# we can change it back to tuple\n",
        "tom = tuple(tom_list)\n",
        "tom"
      ],
      "execution_count": 0,
      "outputs": [
        {
          "output_type": "execute_result",
          "data": {
            "text/plain": [
              "('Tom', 6, 3.75)"
            ]
          },
          "metadata": {
            "tags": []
          },
          "execution_count": 36
        }
      ]
    },
    {
      "cell_type": "markdown",
      "metadata": {
        "id": "VVQ5jbty6c4f",
        "colab_type": "text"
      },
      "source": [
        "## Strings are also List-like and IMMUTABLE"
      ]
    },
    {
      "cell_type": "code",
      "metadata": {
        "id": "rzCXjX7k_wby",
        "colab_type": "code",
        "outputId": "ca951ef1-18a9-433d-cdc5-2fe37210b082",
        "colab": {
          "base_uri": "https://localhost:8080/",
          "height": 35
        }
      },
      "source": [
        "name = 'Tom'\n",
        "name[2]"
      ],
      "execution_count": 0,
      "outputs": [
        {
          "output_type": "execute_result",
          "data": {
            "text/plain": [
              "'m'"
            ]
          },
          "metadata": {
            "tags": []
          },
          "execution_count": 39
        }
      ]
    },
    {
      "cell_type": "code",
      "metadata": {
        "id": "PZ1NPQMhAJxR",
        "colab_type": "code",
        "outputId": "e565c5c5-f911-472a-eeee-de0e8fb816aa",
        "colab": {
          "base_uri": "https://localhost:8080/",
          "height": 35
        }
      },
      "source": [
        "len(name)"
      ],
      "execution_count": 0,
      "outputs": [
        {
          "output_type": "execute_result",
          "data": {
            "text/plain": [
              "3"
            ]
          },
          "metadata": {
            "tags": []
          },
          "execution_count": 40
        }
      ]
    },
    {
      "cell_type": "markdown",
      "metadata": {
        "id": "eN_BhK-C6c7e",
        "colab_type": "text"
      },
      "source": [
        "## References revisited\n",
        "### remember (mutable) object references are passed by value in function argument passing?"
      ]
    },
    {
      "cell_type": "code",
      "metadata": {
        "id": "QddTa-L6A2ZQ",
        "colab_type": "code",
        "colab": {}
      },
      "source": [
        "# a number list\n",
        "outer_list = [1 ,2, 5.6, 100]\n",
        "inner_list = ['a', 'b', 'c']"
      ],
      "execution_count": 0,
      "outputs": []
    },
    {
      "cell_type": "code",
      "metadata": {
        "id": "NRDchiPZBDXz",
        "colab_type": "code",
        "outputId": "29359976-5a14-481b-d3f5-dbd4fd89e932",
        "colab": {
          "base_uri": "https://localhost:8080/",
          "height": 35
        }
      },
      "source": [
        "outer_list[1] = inner_list     # index 1 in a_list holds a reference to inner_list\n",
        "outer_list"
      ],
      "execution_count": 0,
      "outputs": [
        {
          "output_type": "execute_result",
          "data": {
            "text/plain": [
              "[1, ['a', 'b', 'c'], 5.6, 100]"
            ]
          },
          "metadata": {
            "tags": []
          },
          "execution_count": 48
        }
      ]
    },
    {
      "cell_type": "code",
      "metadata": {
        "id": "ayZlOvN7BJeX",
        "colab_type": "code",
        "outputId": "26554935-7b04-4e76-984b-feac14a431c2",
        "colab": {
          "base_uri": "https://localhost:8080/",
          "height": 35
        }
      },
      "source": [
        "inner_list.append('d')     # update inner_list affects outer_list\n",
        "outer_list"
      ],
      "execution_count": 0,
      "outputs": [
        {
          "output_type": "execute_result",
          "data": {
            "text/plain": [
              "[1, ['a', 'b', 'c', 'd'], 5.6, 100]"
            ]
          },
          "metadata": {
            "tags": []
          },
          "execution_count": 49
        }
      ]
    },
    {
      "cell_type": "markdown",
      "metadata": {
        "id": "7Zzvm_Zq-Kny",
        "colab_type": "text"
      },
      "source": [
        "## Lists are passed by reference value"
      ]
    },
    {
      "cell_type": "code",
      "metadata": {
        "id": "uslPzCgmB5uh",
        "colab_type": "code",
        "outputId": "cce30943-8585-4040-9522-10034b698a46",
        "colab": {
          "base_uri": "https://localhost:8080/",
          "height": 35
        }
      },
      "source": [
        "def append_to_list(a_list):\n",
        "    a_list.append('extra')\n",
        "    \n",
        "my_list = [1, 2, 3]\n",
        "append_to_list(my_list)\n",
        "my_list"
      ],
      "execution_count": 0,
      "outputs": [
        {
          "output_type": "execute_result",
          "data": {
            "text/plain": [
              "[1, 2, 3, 'extra']"
            ]
          },
          "metadata": {
            "tags": []
          },
          "execution_count": 50
        }
      ]
    },
    {
      "cell_type": "markdown",
      "metadata": {
        "id": "DTy_NhAIB9Dg",
        "colab_type": "text"
      },
      "source": [
        "##List comprehension"
      ]
    },
    {
      "cell_type": "code",
      "metadata": {
        "id": "RdaTRv_k6fgt",
        "colab_type": "code",
        "outputId": "bd97e592-bc72-4bfa-8f13-256598b8a265",
        "colab": {
          "base_uri": "https://localhost:8080/",
          "height": 35
        }
      },
      "source": [
        "nums = [1, 2, 3, 4, 5]\n",
        "squares = [ n*n for n in nums ]\n",
        "print(squares)"
      ],
      "execution_count": 0,
      "outputs": [
        {
          "output_type": "stream",
          "text": [
            "[1, 4, 9, 16, 25]\n"
          ],
          "name": "stdout"
        }
      ]
    },
    {
      "cell_type": "code",
      "metadata": {
        "id": "_xlkjNT4Ec5r",
        "colab_type": "code",
        "outputId": "4389571e-0bf0-4064-a35f-7d23c43461ec",
        "colab": {
          "base_uri": "https://localhost:8080/",
          "height": 35
        }
      },
      "source": [
        "nums = [4, 5, 3, 6, 7, 2, 1, 9]\n",
        "odds = [ n for n in nums if n % 2 == 1]\n",
        "print(odds)"
      ],
      "execution_count": 0,
      "outputs": [
        {
          "output_type": "stream",
          "text": [
            "[5, 3, 7, 1, 9]\n"
          ],
          "name": "stdout"
        }
      ]
    },
    {
      "cell_type": "code",
      "metadata": {
        "id": "QxOoFKZlE554",
        "colab_type": "code",
        "colab": {}
      },
      "source": [
        "quotes = \"Imagination is more important than knowledge\"\n",
        "tokens = quotes.split()\n"
      ],
      "execution_count": 0,
      "outputs": []
    },
    {
      "cell_type": "code",
      "metadata": {
        "id": "8p1q9e0gFRt5",
        "colab_type": "code",
        "outputId": "f04a3c75-4f4a-4303-8e16-425909b9373b",
        "colab": {
          "base_uri": "https://localhost:8080/",
          "height": 35
        }
      },
      "source": [
        "lens = [ len(tk) for tk in quotes.split() ]\n",
        "lens"
      ],
      "execution_count": 0,
      "outputs": [
        {
          "output_type": "execute_result",
          "data": {
            "text/plain": [
              "[11, 2, 4, 9, 4, 9]"
            ]
          },
          "metadata": {
            "tags": []
          },
          "execution_count": 11
        }
      ]
    },
    {
      "cell_type": "code",
      "metadata": {
        "id": "y4pYHU26FbUn",
        "colab_type": "code",
        "colab": {}
      },
      "source": [
        "token_lens = [ (tk, len(tk)) for tk in quotes.split() ]\n",
        "token_lens"
      ],
      "execution_count": 0,
      "outputs": []
    },
    {
      "cell_type": "markdown",
      "metadata": {
        "id": "9qatZ3AfBi9y",
        "colab_type": "text"
      },
      "source": [
        "### Practice Problems:"
      ]
    },
    {
      "cell_type": "markdown",
      "metadata": {
        "id": "CVIq4W53BoWN",
        "colab_type": "text"
      },
      "source": [
        "1. write a program that returns a list that contains only the elements that are common between two lists "
      ]
    },
    {
      "cell_type": "code",
      "metadata": {
        "id": "eIlZOJv4Bo-5",
        "colab_type": "code",
        "colab": {}
      },
      "source": [
        ""
      ],
      "execution_count": 0,
      "outputs": []
    },
    {
      "cell_type": "markdown",
      "metadata": {
        "id": "0es0GNBgBqMp",
        "colab_type": "text"
      },
      "source": [
        "2. Write a function that takes a list of numbers and makes a new list of only the first and last elements of the given list. "
      ]
    },
    {
      "cell_type": "code",
      "metadata": {
        "id": "4WZlmsrUB8rc",
        "colab_type": "code",
        "colab": {}
      },
      "source": [
        ""
      ],
      "execution_count": 0,
      "outputs": []
    },
    {
      "cell_type": "markdown",
      "metadata": {
        "id": "RKSqpr6OCCbN",
        "colab_type": "text"
      },
      "source": [
        "3. Write a function to generate the first 10 Fibonacci numbers and return the numers in a list\n",
        "\n",
        "$F_n = F_{n-1} + F_{n-2}$\n",
        "\n",
        "$F_0 = 0$\n",
        "\n",
        "$F_1 = 1$"
      ]
    },
    {
      "cell_type": "code",
      "metadata": {
        "id": "1pgDfONKCLsS",
        "colab_type": "code",
        "colab": {}
      },
      "source": [
        ""
      ],
      "execution_count": 0,
      "outputs": []
    },
    {
      "cell_type": "markdown",
      "metadata": {
        "id": "xCRuUv0tDRyd",
        "colab_type": "text"
      },
      "source": [
        "4. Write a function to reverse a string ( Friday -> yadirF)"
      ]
    },
    {
      "cell_type": "code",
      "metadata": {
        "id": "Mnq5eH65DZEN",
        "colab_type": "code",
        "colab": {}
      },
      "source": [
        ""
      ],
      "execution_count": 0,
      "outputs": []
    },
    {
      "cell_type": "markdown",
      "metadata": {
        "id": "Z68RXcuVDbre",
        "colab_type": "text"
      },
      "source": [
        "5. Write a function to reverse word order of a string containing multiple words. For example: Tom chases Jerry -> Jerry chases Tom"
      ]
    },
    {
      "cell_type": "code",
      "metadata": {
        "id": "9wSwjCerD8d9",
        "colab_type": "code",
        "colab": {}
      },
      "source": [
        ""
      ],
      "execution_count": 0,
      "outputs": []
    }
  ]
}
