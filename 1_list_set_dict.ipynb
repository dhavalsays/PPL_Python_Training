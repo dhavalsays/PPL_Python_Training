{
  "nbformat": 4,
  "nbformat_minor": 0,
  "metadata": {
    "colab": {
      "name": "1_list_set_dict.ipynb",
      "provenance": [],
      "collapsed_sections": []
    },
    "kernelspec": {
      "name": "python3",
      "display_name": "Python 3"
    }
  },
  "cells": [
    {
      "cell_type": "markdown",
      "metadata": {
        "id": "r4JmHu9hhCHZ",
        "colab_type": "text"
      },
      "source": [
        "# LISTS\n",
        "\n",
        "## A list is a value that contains multiple values in an ordered sequence."
      ]
    },
    {
      "cell_type": "markdown",
      "metadata": {
        "id": "oxh_G1MWi_MY",
        "colab_type": "text"
      },
      "source": [
        "## Using indexes to access values in list"
      ]
    },
    {
      "cell_type": "code",
      "metadata": {
        "id": "sOifcJHAi2wY",
        "colab_type": "code",
        "colab": {}
      },
      "source": [
        "num_list = [0, 1, 2, 2, 3, 5, 6, 13, 21, 34]\n",
        "num_list[0]"
      ],
      "execution_count": 0,
      "outputs": []
    },
    {
      "cell_type": "code",
      "metadata": {
        "id": "880XagOlti80",
        "colab_type": "code",
        "colab": {}
      },
      "source": [
        "fruits = ['apple', 'cherry', 'banana', 'Lemon', 'Grape']\n",
        "fruits[1]"
      ],
      "execution_count": 0,
      "outputs": []
    },
    {
      "cell_type": "code",
      "metadata": {
        "id": "zKl0a0D7to1I",
        "colab_type": "code",
        "colab": {}
      },
      "source": [
        "# lists in list\n",
        "\n",
        "num_list_2 = [[1, 2, 3], [4, 5, 6], [7, 8, 9]]\n",
        "num_list_2"
      ],
      "execution_count": 0,
      "outputs": []
    },
    {
      "cell_type": "code",
      "metadata": {
        "id": "i09zmPidt4ao",
        "colab_type": "code",
        "colab": {}
      },
      "source": [
        "num_list_2[1]"
      ],
      "execution_count": 0,
      "outputs": []
    },
    {
      "cell_type": "code",
      "metadata": {
        "id": "NYN-0DViuEy7",
        "colab_type": "code",
        "colab": {}
      },
      "source": [
        "num_list_2[2][0], num_list_2[2][2]"
      ],
      "execution_count": 0,
      "outputs": []
    },
    {
      "cell_type": "markdown",
      "metadata": {
        "id": "QLNO3ehYkPag",
        "colab_type": "text"
      },
      "source": [
        "## Negative Indexes"
      ]
    },
    {
      "cell_type": "code",
      "metadata": {
        "id": "pPDhBlyBkS9E",
        "colab_type": "code",
        "colab": {}
      },
      "source": [
        "num_list = [0, 1, 2, 2, 3, 5, 6, 13, 21, 34]\n",
        "\n",
        "num_list[-1]"
      ],
      "execution_count": 0,
      "outputs": []
    },
    {
      "cell_type": "code",
      "metadata": {
        "id": "dOD7SgcZuXdx",
        "colab_type": "code",
        "colab": {}
      },
      "source": [
        "num_list[-2]"
      ],
      "execution_count": 0,
      "outputs": []
    },
    {
      "cell_type": "markdown",
      "metadata": {
        "id": "azasVVDskZZJ",
        "colab_type": "text"
      },
      "source": [
        "## Getting Sublists with Slices"
      ]
    },
    {
      "cell_type": "code",
      "metadata": {
        "id": "rUmWZKG-kaMk",
        "colab_type": "code",
        "colab": {}
      },
      "source": [
        "num_list[0:3]"
      ],
      "execution_count": 0,
      "outputs": []
    },
    {
      "cell_type": "code",
      "metadata": {
        "id": "DgJpvtrJult0",
        "colab_type": "code",
        "colab": {}
      },
      "source": [
        "num_list[3:]"
      ],
      "execution_count": 0,
      "outputs": []
    },
    {
      "cell_type": "code",
      "metadata": {
        "id": "QWJkJH1Huq8j",
        "colab_type": "code",
        "colab": {}
      },
      "source": [
        "num_list[:]"
      ],
      "execution_count": 0,
      "outputs": []
    },
    {
      "cell_type": "code",
      "metadata": {
        "id": "krB2R6czuxcg",
        "colab_type": "code",
        "colab": {}
      },
      "source": [
        "sub_list = num_list[0:7:2]\n",
        "sub_list"
      ],
      "execution_count": 0,
      "outputs": []
    },
    {
      "cell_type": "code",
      "metadata": {
        "id": "DJm0eN6Au9gt",
        "colab_type": "code",
        "colab": {}
      },
      "source": [
        "num_list"
      ],
      "execution_count": 0,
      "outputs": []
    },
    {
      "cell_type": "code",
      "metadata": {
        "id": "ehTkb0AVrgz9",
        "colab_type": "code",
        "colab": {}
      },
      "source": [
        "num_list[::-1]"
      ],
      "execution_count": 0,
      "outputs": []
    },
    {
      "cell_type": "markdown",
      "metadata": {
        "id": "yVvYa4Q5ka2D",
        "colab_type": "text"
      },
      "source": [
        "## Length of list function _len()_"
      ]
    },
    {
      "cell_type": "code",
      "metadata": {
        "id": "qPHcQhWikhO6",
        "colab_type": "code",
        "colab": {}
      },
      "source": [
        "len(num_list)"
      ],
      "execution_count": 0,
      "outputs": []
    },
    {
      "cell_type": "code",
      "metadata": {
        "id": "SRo0pRtPwLmj",
        "colab_type": "code",
        "colab": {}
      },
      "source": [
        "len(fruits)"
      ],
      "execution_count": 0,
      "outputs": []
    },
    {
      "cell_type": "markdown",
      "metadata": {
        "id": "YzbgMsg9kpS7",
        "colab_type": "text"
      },
      "source": [
        "## Update list values with indexes"
      ]
    },
    {
      "cell_type": "code",
      "metadata": {
        "id": "gcaZdoSvkslu",
        "colab_type": "code",
        "colab": {}
      },
      "source": [
        "fruits = ['apple', 'cherry', 'banana', 'Lemon', 'Grape']\n",
        "fruits[2] = 'orange'"
      ],
      "execution_count": 0,
      "outputs": []
    },
    {
      "cell_type": "code",
      "metadata": {
        "id": "ePgtC7iOvMIt",
        "colab_type": "code",
        "colab": {}
      },
      "source": [
        "fruits"
      ],
      "execution_count": 0,
      "outputs": []
    },
    {
      "cell_type": "code",
      "metadata": {
        "id": "_TsogO9FvMLJ",
        "colab_type": "code",
        "colab": {}
      },
      "source": [
        "sub_list = num_list[0:3]\n",
        "sub_list"
      ],
      "execution_count": 0,
      "outputs": []
    },
    {
      "cell_type": "code",
      "metadata": {
        "id": "ZKN2vhdRvS4R",
        "colab_type": "code",
        "colab": {}
      },
      "source": [
        "sub_list[1] = 10\n",
        "sub_list"
      ],
      "execution_count": 0,
      "outputs": []
    },
    {
      "cell_type": "code",
      "metadata": {
        "id": "rXiX5dqhvMN5",
        "colab_type": "code",
        "colab": {}
      },
      "source": [
        "num_list"
      ],
      "execution_count": 0,
      "outputs": []
    },
    {
      "cell_type": "markdown",
      "metadata": {
        "id": "fz8tDYuxwRmV",
        "colab_type": "text"
      },
      "source": [
        "## Append to list"
      ]
    },
    {
      "cell_type": "code",
      "metadata": {
        "id": "b5CNFOysk0T-",
        "colab_type": "code",
        "colab": {}
      },
      "source": [
        "fruits"
      ],
      "execution_count": 0,
      "outputs": []
    },
    {
      "cell_type": "code",
      "metadata": {
        "id": "PtRysjrhwW5W",
        "colab_type": "code",
        "colab": {}
      },
      "source": [
        "fruits.append('banana')\n",
        "fruits.append('peach')\n",
        "fruits"
      ],
      "execution_count": 0,
      "outputs": []
    },
    {
      "cell_type": "markdown",
      "metadata": {
        "id": "8Q01fdEMwv7h",
        "colab_type": "text"
      },
      "source": [
        "## List Concatenation and List Replication\n"
      ]
    },
    {
      "cell_type": "code",
      "metadata": {
        "id": "DGgCEKt-wxey",
        "colab_type": "code",
        "colab": {}
      },
      "source": [
        "fruits_nums = fruits + num_list\n",
        "fruits_nums"
      ],
      "execution_count": 0,
      "outputs": []
    },
    {
      "cell_type": "code",
      "metadata": {
        "id": "ZkEeSzaowxjz",
        "colab_type": "code",
        "colab": {}
      },
      "source": [
        "short_list = ['a', 'b', 'c']\n",
        "short_list"
      ],
      "execution_count": 0,
      "outputs": []
    },
    {
      "cell_type": "code",
      "metadata": {
        "id": "lZixEpJGyQSV",
        "colab_type": "code",
        "colab": {}
      },
      "source": [
        "short_list * 3"
      ],
      "execution_count": 0,
      "outputs": []
    },
    {
      "cell_type": "markdown",
      "metadata": {
        "id": "udaSrYlbk67z",
        "colab_type": "text"
      },
      "source": [
        "## Insert to list"
      ]
    },
    {
      "cell_type": "code",
      "metadata": {
        "id": "PAkSsLUqyykM",
        "colab_type": "code",
        "colab": {}
      },
      "source": [
        "fruits.insert(0, 'avocado')\n",
        "fruits"
      ],
      "execution_count": 0,
      "outputs": []
    },
    {
      "cell_type": "code",
      "metadata": {
        "id": "c5CfivTe0v_B",
        "colab_type": "code",
        "colab": {}
      },
      "source": [
        "fruits.insert(3, 'pear')"
      ],
      "execution_count": 0,
      "outputs": []
    },
    {
      "cell_type": "code",
      "metadata": {
        "id": "83pC4eRQ084z",
        "colab_type": "code",
        "colab": {}
      },
      "source": [
        "fruits"
      ],
      "execution_count": 0,
      "outputs": []
    },
    {
      "cell_type": "markdown",
      "metadata": {
        "id": "-v5iPpC74o0z",
        "colab_type": "text"
      },
      "source": [
        "## Removing Values from Lists with _del_ Statements\n",
        "_del_ statement removes the value at given index"
      ]
    },
    {
      "cell_type": "code",
      "metadata": {
        "id": "SLGavPPg4yf0",
        "colab_type": "code",
        "colab": {}
      },
      "source": [
        "fruits"
      ],
      "execution_count": 0,
      "outputs": []
    },
    {
      "cell_type": "code",
      "metadata": {
        "id": "5CesmZpv4ykU",
        "colab_type": "code",
        "colab": {}
      },
      "source": [
        "del fruits[3]  # remove element at index 3\n",
        "fruits"
      ],
      "execution_count": 0,
      "outputs": []
    },
    {
      "cell_type": "markdown",
      "metadata": {
        "id": "XRXCiTf15F_Y",
        "colab_type": "text"
      },
      "source": [
        "## Removing Values from Lists with _remove_ function\n",
        "Function _remove()_ removes the first matching value from the list"
      ]
    },
    {
      "cell_type": "code",
      "metadata": {
        "id": "79Fd2Ho_5L-m",
        "colab_type": "code",
        "colab": {}
      },
      "source": [
        "numbers = [3, 2, 5, 7, 9, 3, 5]\n",
        "numbers"
      ],
      "execution_count": 0,
      "outputs": []
    },
    {
      "cell_type": "code",
      "metadata": {
        "id": "eHX7e5zH5XjB",
        "colab_type": "code",
        "colab": {}
      },
      "source": [
        "numbers.remove(5)   # remove first element with value = 5\n",
        "numbers"
      ],
      "execution_count": 0,
      "outputs": []
    },
    {
      "cell_type": "code",
      "metadata": {
        "id": "oc8bFQAB5pna",
        "colab_type": "code",
        "colab": {}
      },
      "source": [
        "fruits.append('cherry')\n",
        "fruits.append('orange')\n",
        "fruits"
      ],
      "execution_count": 0,
      "outputs": []
    },
    {
      "cell_type": "code",
      "metadata": {
        "id": "KE33UJ6f5rti",
        "colab_type": "code",
        "colab": {}
      },
      "source": [
        "fruits.remove('cherry')\n",
        "fruits"
      ],
      "execution_count": 0,
      "outputs": []
    },
    {
      "cell_type": "markdown",
      "metadata": {
        "id": "u6SLBZgp57X3",
        "colab_type": "text"
      },
      "source": [
        "## Removing values from Lists with _pop_ function\n",
        "function _pop()_ removes value at given index and returns it\n",
        "\n",
        "if no index is given, last value will be removed and returned"
      ]
    },
    {
      "cell_type": "code",
      "metadata": {
        "id": "a2Gj0pXp6DrM",
        "colab_type": "code",
        "colab": {}
      },
      "source": [
        "print('fruits: ', fruits)\n",
        "a = fruits.pop()     # last value if no index is given\n",
        "print('a: ', a)\n",
        "print('fruits: ', fruits)"
      ],
      "execution_count": 0,
      "outputs": []
    },
    {
      "cell_type": "code",
      "metadata": {
        "id": "UUAgPS-c6ECl",
        "colab_type": "code",
        "colab": {}
      },
      "source": [
        "b = fruits.pop()\n",
        "print('b: ', b)\n",
        "print('fruits: ', fruits)"
      ],
      "execution_count": 0,
      "outputs": []
    },
    {
      "cell_type": "code",
      "metadata": {
        "id": "2TA1bn8W6gOs",
        "colab_type": "code",
        "colab": {}
      },
      "source": [
        "print(numbers)\n",
        "n = numbers.pop(3)\n",
        "print('popped value at index 3: ', n)\n",
        "print(numbers)"
      ],
      "execution_count": 0,
      "outputs": []
    },
    {
      "cell_type": "markdown",
      "metadata": {
        "id": "kO45fRoh5iFW",
        "colab_type": "text"
      },
      "source": [
        "## For loop with list\n"
      ]
    },
    {
      "cell_type": "code",
      "metadata": {
        "id": "P7Rovo_25n-C",
        "colab_type": "code",
        "colab": {}
      },
      "source": [
        "num_list = [0, 1, 2, 2, 3, 5, 6, 13, 21, 34]\n",
        "\n",
        "# sum of the numbers in the list\n",
        "\n",
        "sum = 0\n",
        "for item in num_list:\n",
        "    sum += item\n",
        "    \n",
        "print(sum)"
      ],
      "execution_count": 0,
      "outputs": []
    },
    {
      "cell_type": "code",
      "metadata": {
        "id": "pxcMxPXA50Uf",
        "colab_type": "code",
        "colab": {}
      },
      "source": [
        "# or use index\n",
        "sum = 0\n",
        "\n",
        "for i in range(len(num_list)):\n",
        "    sum = sum + num_list[i]\n",
        "    \n",
        "print(sum)"
      ],
      "execution_count": 0,
      "outputs": []
    },
    {
      "cell_type": "code",
      "metadata": {
        "id": "52RLHprj5_b5",
        "colab_type": "code",
        "colab": {}
      },
      "source": [
        "## The in and not in Operators\n",
        "print(31 in num_list)\n",
        "print(13 in num_list)\n",
        "print('hello' not in num_list)"
      ],
      "execution_count": 0,
      "outputs": []
    },
    {
      "cell_type": "markdown",
      "metadata": {
        "id": "mt7ZrmZm6czz",
        "colab_type": "text"
      },
      "source": [
        "## Sorting the Values in a List with the sort() Method"
      ]
    },
    {
      "cell_type": "code",
      "metadata": {
        "id": "uJSR-D4O8dWY",
        "colab_type": "code",
        "colab": {}
      },
      "source": [
        "numbers = [100, -23, 4.56, 290, 33, 7]\n",
        "numbers"
      ],
      "execution_count": 0,
      "outputs": []
    },
    {
      "cell_type": "code",
      "metadata": {
        "id": "1BNX3dBt8l6Z",
        "colab_type": "code",
        "colab": {}
      },
      "source": [
        "numbers.sort()\n",
        "numbers"
      ],
      "execution_count": 0,
      "outputs": []
    },
    {
      "cell_type": "code",
      "metadata": {
        "id": "aeRk7J3D8vBU",
        "colab_type": "code",
        "colab": {}
      },
      "source": [
        "numbers.sort(reverse=True)\n",
        "numbers"
      ],
      "execution_count": 0,
      "outputs": []
    },
    {
      "cell_type": "code",
      "metadata": {
        "id": "4j5rBvXv88B0",
        "colab_type": "code",
        "colab": {}
      },
      "source": [
        "fruits.sort(reverse=True)\n",
        "fruits"
      ],
      "execution_count": 0,
      "outputs": []
    },
    {
      "cell_type": "code",
      "metadata": {
        "id": "NqXZQdVQ82aI",
        "colab_type": "code",
        "colab": {}
      },
      "source": [
        "# doesn't work\n",
        "not_sortable = ['apple', 1, 3.14, 'cat']\n",
        "not_sortable.sort()"
      ],
      "execution_count": 0,
      "outputs": []
    },
    {
      "cell_type": "markdown",
      "metadata": {
        "id": "_Ps20hzX8Ohc",
        "colab_type": "text"
      },
      "source": [
        "## List-like type: Tuples\n",
        "* tuples support many operations like lists: indexing, slicing, len(), in and not operators, etc.  \n",
        "* tuples are typed with parentheses (), not square brackets []\n",
        "* tuples are IMMUTABLE, while lists are MUTABLE"
      ]
    },
    {
      "cell_type": "code",
      "metadata": {
        "id": "94Ps3gCY-s_1",
        "colab_type": "code",
        "colab": {}
      },
      "source": [
        "tom = ('Tom', 5, 3.75)\n",
        "jerry = ('Jerry', 3, 3.89)\n"
      ],
      "execution_count": 0,
      "outputs": []
    },
    {
      "cell_type": "code",
      "metadata": {
        "id": "xmoGLdwk-5eh",
        "colab_type": "code",
        "colab": {}
      },
      "source": [
        "tom[0], tom[1]"
      ],
      "execution_count": 0,
      "outputs": []
    },
    {
      "cell_type": "code",
      "metadata": {
        "id": "WEq9nqzu--N0",
        "colab_type": "code",
        "colab": {}
      },
      "source": [
        "tom[1] = 6  # doesn't work, because tuples are IMMUTABLE"
      ],
      "execution_count": 0,
      "outputs": []
    },
    {
      "cell_type": "code",
      "metadata": {
        "id": "1mRJSbIC_KmY",
        "colab_type": "code",
        "colab": {}
      },
      "source": [
        "# convert to a list\n",
        "tom_list = list(tom)\n",
        "tom_list"
      ],
      "execution_count": 0,
      "outputs": []
    },
    {
      "cell_type": "code",
      "metadata": {
        "id": "05qlR0Fj_QSt",
        "colab_type": "code",
        "colab": {}
      },
      "source": [
        "# then we can change it, because lists are MUTABLE\n",
        "tom_list[1] = 6\n",
        "tom_list"
      ],
      "execution_count": 0,
      "outputs": []
    },
    {
      "cell_type": "code",
      "metadata": {
        "id": "BoT_FW-e_XQM",
        "colab_type": "code",
        "colab": {}
      },
      "source": [
        "# we can change it back to tuple\n",
        "tom = tuple(tom_list)\n",
        "tom"
      ],
      "execution_count": 0,
      "outputs": []
    },
    {
      "cell_type": "markdown",
      "metadata": {
        "id": "VVQ5jbty6c4f",
        "colab_type": "text"
      },
      "source": [
        "## Strings are also List-like and IMMUTABLE"
      ]
    },
    {
      "cell_type": "code",
      "metadata": {
        "id": "rzCXjX7k_wby",
        "colab_type": "code",
        "colab": {}
      },
      "source": [
        "name = 'Tom'\n",
        "name[2]"
      ],
      "execution_count": 0,
      "outputs": []
    },
    {
      "cell_type": "code",
      "metadata": {
        "id": "PZ1NPQMhAJxR",
        "colab_type": "code",
        "colab": {}
      },
      "source": [
        "len(name)"
      ],
      "execution_count": 0,
      "outputs": []
    },
    {
      "cell_type": "markdown",
      "metadata": {
        "id": "k_e0zb50oV_L",
        "colab_type": "text"
      },
      "source": [
        "## Reference to list"
      ]
    },
    {
      "cell_type": "code",
      "metadata": {
        "id": "QddTa-L6A2ZQ",
        "colab_type": "code",
        "colab": {}
      },
      "source": [
        "# a number list\n",
        "outer_list = [1 ,2, 5.6, 100]\n",
        "inner_list = ['a', 'b', 'c']"
      ],
      "execution_count": 0,
      "outputs": []
    },
    {
      "cell_type": "code",
      "metadata": {
        "id": "NRDchiPZBDXz",
        "colab_type": "code",
        "colab": {}
      },
      "source": [
        "outer_list[1] = inner_list     # index 1 in a_list holds a reference to inner_list\n",
        "outer_list"
      ],
      "execution_count": 0,
      "outputs": []
    },
    {
      "cell_type": "code",
      "metadata": {
        "id": "ayZlOvN7BJeX",
        "colab_type": "code",
        "colab": {}
      },
      "source": [
        "inner_list.append('d')     # update inner_list affects outer_list\n",
        "outer_list"
      ],
      "execution_count": 0,
      "outputs": []
    },
    {
      "cell_type": "markdown",
      "metadata": {
        "id": "7Zzvm_Zq-Kny",
        "colab_type": "text"
      },
      "source": [
        "## Lists are passed into functions by reference value"
      ]
    },
    {
      "cell_type": "code",
      "metadata": {
        "id": "uslPzCgmB5uh",
        "colab_type": "code",
        "colab": {}
      },
      "source": [
        "def append_to_list(a_list):\n",
        "    a_list.append('extra')\n",
        "    \n",
        "my_list = [1, 2, 3]\n",
        "append_to_list(my_list)\n",
        "my_list"
      ],
      "execution_count": 0,
      "outputs": []
    },
    {
      "cell_type": "markdown",
      "metadata": {
        "id": "DTy_NhAIB9Dg",
        "colab_type": "text"
      },
      "source": [
        "##List comprehension"
      ]
    },
    {
      "cell_type": "code",
      "metadata": {
        "id": "RdaTRv_k6fgt",
        "colab_type": "code",
        "colab": {}
      },
      "source": [
        "nums = [1, 2, 3, 4, 5]\n",
        "squares = [ n*n for n in nums ]\n",
        "print(squares)"
      ],
      "execution_count": 0,
      "outputs": []
    },
    {
      "cell_type": "code",
      "metadata": {
        "id": "_xlkjNT4Ec5r",
        "colab_type": "code",
        "colab": {}
      },
      "source": [
        "nums = [4, 5, 3, 6, 7, 2, 1, 9]\n",
        "odds = [ n for n in nums if n % 2 == 1]\n",
        "print(odds)"
      ],
      "execution_count": 0,
      "outputs": []
    },
    {
      "cell_type": "code",
      "metadata": {
        "id": "QxOoFKZlE554",
        "colab_type": "code",
        "colab": {}
      },
      "source": [
        "quotes = \"Imagination is more important than knowledge\"\n",
        "tokens = quotes.split()\n"
      ],
      "execution_count": 0,
      "outputs": []
    },
    {
      "cell_type": "code",
      "metadata": {
        "id": "8p1q9e0gFRt5",
        "colab_type": "code",
        "colab": {}
      },
      "source": [
        "lens = [ len(tk) for tk in quotes.split() ]\n",
        "lens"
      ],
      "execution_count": 0,
      "outputs": []
    },
    {
      "cell_type": "code",
      "metadata": {
        "id": "y4pYHU26FbUn",
        "colab_type": "code",
        "colab": {}
      },
      "source": [
        "token_lens = [ (tk, len(tk)) for tk in quotes.split() ]\n",
        "token_lens"
      ],
      "execution_count": 0,
      "outputs": []
    },
    {
      "cell_type": "markdown",
      "metadata": {
        "id": "vOb-Wp-yGD6M",
        "colab_type": "text"
      },
      "source": [
        "## Need help? dir(list) or help(list)"
      ]
    },
    {
      "cell_type": "code",
      "metadata": {
        "id": "8O5C6MJPGHz6",
        "colab_type": "code",
        "colab": {}
      },
      "source": [
        "dir(list)"
      ],
      "execution_count": 0,
      "outputs": []
    },
    {
      "cell_type": "markdown",
      "metadata": {
        "id": "FiaO01INAb3V",
        "colab_type": "text"
      },
      "source": [
        "# SETS\n",
        "\n",
        "A Set is collection, unordered, iterable, mutable, no duplicate elements. \n",
        "Think of sets in math."
      ]
    },
    {
      "cell_type": "code",
      "metadata": {
        "id": "Pu4GQDgQB1NQ",
        "colab_type": "code",
        "colab": {}
      },
      "source": [
        "set_1 = set()\n",
        "set_2 = {2, 3, 4, 5, 3, 4, 3, 7}"
      ],
      "execution_count": 0,
      "outputs": []
    },
    {
      "cell_type": "code",
      "metadata": {
        "id": "zwYZT2wNCI8_",
        "colab_type": "code",
        "colab": {}
      },
      "source": [
        "type(set_1), set_1"
      ],
      "execution_count": 0,
      "outputs": []
    },
    {
      "cell_type": "code",
      "metadata": {
        "id": "GmqE86w3B670",
        "colab_type": "code",
        "colab": {}
      },
      "source": [
        "type(set_2), set_2"
      ],
      "execution_count": 0,
      "outputs": []
    },
    {
      "cell_type": "markdown",
      "metadata": {
        "id": "KUlCE1XbCYTX",
        "colab_type": "text"
      },
      "source": [
        "## Add to set"
      ]
    },
    {
      "cell_type": "code",
      "metadata": {
        "id": "X_y5_O_rCUTR",
        "colab_type": "code",
        "colab": {}
      },
      "source": [
        "set_1.add(7)\n",
        "set_1.add('dog')\n",
        "set_1.add('dog')\n",
        "set_1.add(3.1415926)\n",
        "set_1"
      ],
      "execution_count": 0,
      "outputs": []
    },
    {
      "cell_type": "markdown",
      "metadata": {
        "id": "ddmjc550Cwji",
        "colab_type": "text"
      },
      "source": [
        "## Union of sets"
      ]
    },
    {
      "cell_type": "code",
      "metadata": {
        "id": "d7LSBbwHDAQ-",
        "colab_type": "code",
        "colab": {}
      },
      "source": [
        "set_1.union(set_2)"
      ],
      "execution_count": 0,
      "outputs": []
    },
    {
      "cell_type": "code",
      "metadata": {
        "id": "osIBYeghDA-k",
        "colab_type": "code",
        "colab": {}
      },
      "source": [
        "set_1 | set_2"
      ],
      "execution_count": 0,
      "outputs": []
    },
    {
      "cell_type": "markdown",
      "metadata": {
        "id": "4iQqeWUVDIE4",
        "colab_type": "text"
      },
      "source": [
        "## Intersect of sets"
      ]
    },
    {
      "cell_type": "code",
      "metadata": {
        "id": "YPl-1-q_DbIP",
        "colab_type": "code",
        "colab": {}
      },
      "source": [
        "set_1.intersection(set_2)"
      ],
      "execution_count": 0,
      "outputs": []
    },
    {
      "cell_type": "code",
      "metadata": {
        "id": "1uI6_k7bDbMH",
        "colab_type": "code",
        "colab": {}
      },
      "source": [
        "set_2 & set_1"
      ],
      "execution_count": 0,
      "outputs": []
    },
    {
      "cell_type": "markdown",
      "metadata": {
        "id": "7pC9F9qEDi1X",
        "colab_type": "text"
      },
      "source": [
        "## Difference of sets"
      ]
    },
    {
      "cell_type": "code",
      "metadata": {
        "id": "qW02WTLyDmvu",
        "colab_type": "code",
        "colab": {}
      },
      "source": [
        "set_2 - set_1"
      ],
      "execution_count": 0,
      "outputs": []
    },
    {
      "cell_type": "code",
      "metadata": {
        "id": "_1NJlT1DDmzB",
        "colab_type": "code",
        "colab": {}
      },
      "source": [
        "set_1 - set_2"
      ],
      "execution_count": 0,
      "outputs": []
    },
    {
      "cell_type": "code",
      "metadata": {
        "id": "3L6Sy0n-Dv6x",
        "colab_type": "code",
        "colab": {}
      },
      "source": [
        "set_1.difference(set_2)"
      ],
      "execution_count": 0,
      "outputs": []
    },
    {
      "cell_type": "markdown",
      "metadata": {
        "id": "2ggt6o4AFigW",
        "colab_type": "text"
      },
      "source": [
        "## set <-> list"
      ]
    },
    {
      "cell_type": "code",
      "metadata": {
        "id": "W3dBl4DsFm-K",
        "colab_type": "code",
        "colab": {}
      },
      "source": [
        "list(set_1)"
      ],
      "execution_count": 0,
      "outputs": []
    },
    {
      "cell_type": "code",
      "metadata": {
        "id": "TG59RMUyFtwp",
        "colab_type": "code",
        "colab": {}
      },
      "source": [
        "set([2, 3, 4, 2, 6, 7, 1, 5, 6])"
      ],
      "execution_count": 0,
      "outputs": []
    },
    {
      "cell_type": "markdown",
      "metadata": {
        "id": "Q8QU--j3ERD7",
        "colab_type": "text"
      },
      "source": [
        "## Need help? dir(set) or help(set)"
      ]
    },
    {
      "cell_type": "code",
      "metadata": {
        "id": "dj1ezoAYE_3r",
        "colab_type": "code",
        "colab": {}
      },
      "source": [
        "help(set)"
      ],
      "execution_count": 0,
      "outputs": []
    },
    {
      "cell_type": "markdown",
      "metadata": {
        "id": "gV7YT_FfGj4K",
        "colab_type": "text"
      },
      "source": [
        "# Dictionary (dict)\n",
        "\n",
        "Dictionary in Python is an unordered collection of data value pairs"
      ]
    },
    {
      "cell_type": "code",
      "metadata": {
        "id": "jm6PJX3ywcDI",
        "colab_type": "code",
        "colab": {}
      },
      "source": [
        "# empty dictionary\n",
        "d1 = {}  # d1 = dict()\n",
        "\n",
        "# add key-value pairs to the dictionary\n",
        "d1['a'] = 12\n",
        "d1['b'] = 3\n",
        "d1['c'] = 47\n",
        "d1['d'] = 18\n",
        "\n",
        "# show the dictionary\n",
        "d1"
      ],
      "execution_count": 0,
      "outputs": []
    },
    {
      "cell_type": "code",
      "metadata": {
        "id": "dr-R17LVKgGW",
        "colab_type": "code",
        "colab": {}
      },
      "source": [
        "# access value by key\n",
        "print(d1['c'])"
      ],
      "execution_count": 0,
      "outputs": []
    },
    {
      "cell_type": "code",
      "metadata": {
        "id": "GEV041DowtqT",
        "colab_type": "code",
        "colab": {}
      },
      "source": [
        "# all keys\n",
        "d1.keys()"
      ],
      "execution_count": 0,
      "outputs": []
    },
    {
      "cell_type": "code",
      "metadata": {
        "id": "PLNsliYjxPF3",
        "colab_type": "code",
        "colab": {}
      },
      "source": [
        "# all values\n",
        "d1.values()"
      ],
      "execution_count": 0,
      "outputs": []
    },
    {
      "cell_type": "code",
      "metadata": {
        "id": "GVFtWRrCxVJx",
        "colab_type": "code",
        "colab": {}
      },
      "source": [
        "for entry in d1.items():\n",
        "    print(entry)"
      ],
      "execution_count": 0,
      "outputs": []
    },
    {
      "cell_type": "code",
      "metadata": {
        "id": "Dji2qB0uxczm",
        "colab_type": "code",
        "colab": {}
      },
      "source": [
        "for k, v in d1.items():\n",
        "    print('%s -> %s' % (str(k), str(v)))"
      ],
      "execution_count": 0,
      "outputs": []
    },
    {
      "cell_type": "markdown",
      "metadata": {
        "id": "FlT-YzvkaVrQ",
        "colab_type": "text"
      },
      "source": [
        "## Merge two dictionaries\n",
        "update() method adds items to the dictionary if the key is not in the dictionary. If the key is in the dictionary, it updates the key with the new value."
      ]
    },
    {
      "cell_type": "code",
      "metadata": {
        "id": "XB7hTMsLadrh",
        "colab_type": "code",
        "colab": {}
      },
      "source": [
        "nfl_team_list_1 = {\n",
        "    'Georgia': 'Atlanta Falcons',\n",
        "    'New York': 'Buffalo Bills',\n",
        "    'New Jersey': 'New York Giants',\n",
        "    'Pennsylvania': 'Philadelphia Eagles'\n",
        "}\n",
        "nfl_team_list_2 = {\n",
        "    'Arizona': 'Arizona Cardinals',\n",
        "    'New York': 'Buffalo Bills',\n",
        "    'New Jersey': 'New York Jets',\n",
        "    'Pennsylvania': 'Pittsburgh Steelers',\n",
        "    'Illinois': 'Chicago Bears'\n",
        "}"
      ],
      "execution_count": 0,
      "outputs": []
    },
    {
      "cell_type": "code",
      "metadata": {
        "id": "mXQ7SbA7I-tR",
        "colab_type": "code",
        "colab": {}
      },
      "source": [
        "nfl_team_list_1.update(nfl_team_list_2)\n",
        "nfl_team_list_1"
      ],
      "execution_count": 0,
      "outputs": []
    },
    {
      "cell_type": "markdown",
      "metadata": {
        "id": "1kPSFdoE9bUz",
        "colab_type": "text"
      },
      "source": [
        "## Remove items from a dictionary"
      ]
    },
    {
      "cell_type": "code",
      "metadata": {
        "id": "0DP-VkuX9gbb",
        "colab_type": "code",
        "colab": {}
      },
      "source": [
        "# pop() removes an item with speficifed key and returns the value\n",
        "val = d1.pop('c')\n",
        "print(val)\n",
        "print(d1)"
      ],
      "execution_count": 0,
      "outputs": []
    },
    {
      "cell_type": "code",
      "metadata": {
        "id": "gjiqArH59gfl",
        "colab_type": "code",
        "colab": {}
      },
      "source": [
        "# del\n",
        "car = {\n",
        "    'brand': 'Ford',\n",
        "    'model': 'Explorer',\n",
        "    'year': 2017,\n",
        "    'price': 20000\n",
        "}\n",
        "car"
      ],
      "execution_count": 0,
      "outputs": []
    },
    {
      "cell_type": "code",
      "metadata": {
        "id": "W6XHJwqPZnRy",
        "colab_type": "code",
        "colab": {}
      },
      "source": [
        "# del keyword delete item by key\n",
        "del car['price']\n",
        "print(car)"
      ],
      "execution_count": 0,
      "outputs": []
    },
    {
      "cell_type": "markdown",
      "metadata": {
        "id": "IrVjRyN-xxyI",
        "colab_type": "text"
      },
      "source": [
        "## Dictionary comprehension"
      ]
    },
    {
      "cell_type": "code",
      "metadata": {
        "id": "us-Ugq2tG0bX",
        "colab_type": "code",
        "colab": {}
      },
      "source": [
        "d1 = {'a': 12, 'b': 3, 'c': 47, 'd': 18}\n",
        "d1"
      ],
      "execution_count": 0,
      "outputs": []
    },
    {
      "cell_type": "code",
      "metadata": {
        "id": "oLZIfgEIwEQG",
        "colab_type": "code",
        "colab": {}
      },
      "source": [
        "# inverting a dictionary\n",
        "d1_inverted = { v: k for k, v in d1.items() }\n",
        "d1_inverted"
      ],
      "execution_count": 0,
      "outputs": []
    },
    {
      "cell_type": "code",
      "metadata": {
        "id": "X_Vv3Tz2zEJR",
        "colab_type": "code",
        "colab": {}
      },
      "source": [
        "# double all values in d1\n",
        "{ k: v*2 for k, v in d1.items() }"
      ],
      "execution_count": 0,
      "outputs": []
    },
    {
      "cell_type": "markdown",
      "metadata": {
        "id": "sn5dvptrwLD1",
        "colab_type": "text"
      },
      "source": [
        ""
      ]
    },
    {
      "cell_type": "markdown",
      "metadata": {
        "id": "5F6noeY4HiEV",
        "colab_type": "text"
      },
      "source": [
        "# More Examples"
      ]
    },
    {
      "cell_type": "code",
      "metadata": {
        "id": "JGPD3X1vHiiJ",
        "colab_type": "code",
        "colab": {}
      },
      "source": [
        "state_list = [\n",
        "    {\n",
        "        'State': 'NJ',\n",
        "        'Capital': 'Trenton',\n",
        "        'Population': 9000000,\n",
        "        'Cities': ['Newark', 'Jersey City', 'Paterson']\n",
        "    },\n",
        "    {\n",
        "        'State': 'NY',\n",
        "        'Capital': 'Albany',\n",
        "        'Population': 20000000,\n",
        "        'Cities': ['New York', 'Buffalo', 'Rochester']\n",
        "    },\n",
        "    {\n",
        "        'State': 'PA',\n",
        "        'Capital': 'Harrisburg',\n",
        "        'Population': 13000000,\n",
        "        'Cities': ['Philadelphia', 'Pittsburgh', 'Allentown']\n",
        "    }      \n",
        "]"
      ],
      "execution_count": 0,
      "outputs": []
    },
    {
      "cell_type": "code",
      "metadata": {
        "id": "iCLvUPBVvnK4",
        "colab_type": "code",
        "colab": {}
      },
      "source": [
        "state_list[2]['Cities']"
      ],
      "execution_count": 0,
      "outputs": []
    },
    {
      "cell_type": "code",
      "metadata": {
        "id": "nA_UFVMyd_eE",
        "colab_type": "code",
        "colab": {}
      },
      "source": [
        "state_dict = {\n",
        "    'NY': {\n",
        "        'Capital': 'Albany',\n",
        "        'Population': 20000000,\n",
        "        'Cities': ['New York', 'Buffalo', 'Rochester']\n",
        "    },\n",
        "    'NJ': {\n",
        "        'Capital': 'Trenton',\n",
        "        'Population': 9000000,\n",
        "        'Cities': ['Newark', 'Jersey City', 'Paterson']\n",
        "    },\n",
        "    'PA': {\n",
        "        'Capital': 'Harrisburg',\n",
        "        'Population': 13000000,\n",
        "        'Cities': ['Philadelphia', 'Pittsburgh', 'Allentown']\n",
        "    }\n",
        "}"
      ],
      "execution_count": 0,
      "outputs": []
    },
    {
      "cell_type": "code",
      "metadata": {
        "id": "22dXLkknu2Z1",
        "colab_type": "code",
        "colab": {}
      },
      "source": [
        "state_dict['NY']"
      ],
      "execution_count": 0,
      "outputs": []
    },
    {
      "cell_type": "code",
      "metadata": {
        "id": "IcPZSwiIuknl",
        "colab_type": "code",
        "colab": {}
      },
      "source": [
        "state_dict['NY']['Cities'][0]"
      ],
      "execution_count": 0,
      "outputs": []
    },
    {
      "cell_type": "markdown",
      "metadata": {
        "id": "9qatZ3AfBi9y",
        "colab_type": "text"
      },
      "source": [
        "### Practice Problems:"
      ]
    },
    {
      "cell_type": "markdown",
      "metadata": {
        "id": "CVIq4W53BoWN",
        "colab_type": "text"
      },
      "source": [
        "1. write a program that returns a list that contains only the elements that are common between two lists "
      ]
    },
    {
      "cell_type": "code",
      "metadata": {
        "id": "eIlZOJv4Bo-5",
        "colab_type": "code",
        "colab": {}
      },
      "source": [
        "list1 = [3, 4, 5, 6, 2, 1, 4, 9, 0, -2, 7]\n",
        "list2 = [-3, 8, 5, 6, 2, 1, -5, 9, 12, -2, 11]\n",
        "\n",
        "def common_list(l1, l2):\n",
        "    pass # your code here\n",
        "\n",
        "print(common_list(list1, list2))\n"
      ],
      "execution_count": 0,
      "outputs": []
    },
    {
      "cell_type": "markdown",
      "metadata": {
        "id": "0es0GNBgBqMp",
        "colab_type": "text"
      },
      "source": [
        "2. Write a function that takes a list of numbers and returns the minimum and maximum numbers as a tuple. "
      ]
    },
    {
      "cell_type": "code",
      "metadata": {
        "id": "4WZlmsrUB8rc",
        "colab_type": "code",
        "colab": {}
      },
      "source": [
        "num_list = [3, 4, 5, 6, 2, 1, 4, 9, 0, -2, 7]\n",
        "\n",
        "def min_max(n_list):\n",
        "    pass # your code here\n",
        "\n",
        "print(min_max(num_list))\n"
      ],
      "execution_count": 0,
      "outputs": []
    },
    {
      "cell_type": "markdown",
      "metadata": {
        "id": "RKSqpr6OCCbN",
        "colab_type": "text"
      },
      "source": [
        "3. Write a function to generate the first 10 Fibonacci numbers and return the numers in a list\n",
        "\n",
        "$F_n = F_{n-1} + F_{n-2}$\n",
        "\n",
        "$F_0 = 0$\n",
        "\n",
        "$F_1 = 1$"
      ]
    },
    {
      "cell_type": "code",
      "metadata": {
        "id": "1pgDfONKCLsS",
        "colab_type": "code",
        "colab": {}
      },
      "source": [
        "def fibonacci_numbers(up_to=10):\n",
        "    # first two fibonacci numbers\n",
        "    fibs = [0, 1]\n",
        "    \n",
        "    pass   # your code here\n",
        "\n",
        "print(fibonacci_numbers())"
      ],
      "execution_count": 0,
      "outputs": []
    },
    {
      "cell_type": "markdown",
      "metadata": {
        "id": "xCRuUv0tDRyd",
        "colab_type": "text"
      },
      "source": [
        "4. Write a function to reverse a string ( Friday -> yadirF)"
      ]
    },
    {
      "cell_type": "code",
      "metadata": {
        "id": "Mnq5eH65DZEN",
        "colab_type": "code",
        "colab": {}
      },
      "source": [
        "def reverse_string(str):\n",
        "\n",
        "    pass    # your code here\n",
        "\n",
        "print(reverse_string('Friday'))"
      ],
      "execution_count": 0,
      "outputs": []
    },
    {
      "cell_type": "markdown",
      "metadata": {
        "id": "Z68RXcuVDbre",
        "colab_type": "text"
      },
      "source": [
        "5. Write a function to reverse word order of a string containing multiple words. For example: Tom chases Jerry -> Jerry chases Tom"
      ]
    },
    {
      "cell_type": "code",
      "metadata": {
        "id": "9wSwjCerD8d9",
        "colab_type": "code",
        "colab": {}
      },
      "source": [
        "def reverse_words(str):\n",
        "\n",
        "    pass    # your code here\n",
        "\n",
        "str1 = 'Tom chases Jerry'\n",
        "print(reverse_words(str1))"
      ],
      "execution_count": 0,
      "outputs": []
    },
    {
      "cell_type": "markdown",
      "metadata": {
        "id": "62OQOTQs0k5K",
        "colab_type": "text"
      },
      "source": [
        "6. Given a list of stock records, find out the total number of shares for each stock.\n",
        "\n",
        "Symbol, Price, Shares <br>\n",
        "IBM, 142.3, 50 <br>\n",
        "MSFT, 170.21, 100 <br>\n",
        "GOOG, 1469.32, 15 <br>\n",
        "IBM, 142.3, 20 <br>\n",
        "C, 74.78, 100 <br>\n",
        "CAT, 133.73, 80 <br>\n",
        "C, 74.78, 200 <br>\n",
        "GOOG, 1469.32, 7 <br>\n",
        "C, 74.78, 80 <br>"
      ]
    },
    {
      "cell_type": "code",
      "metadata": {
        "id": "5Syn67Lzzsl2",
        "colab_type": "code",
        "colab": {}
      },
      "source": [
        ""
      ],
      "execution_count": 0,
      "outputs": []
    },
    {
      "cell_type": "markdown",
      "metadata": {
        "id": "hi5vnh-p8J1Y",
        "colab_type": "text"
      },
      "source": [
        "7. Given a list of stock buy/sell records, find out net values for each stock, and the total net value\n",
        "\n",
        "Symbol, Price, Shares, Buy/Sell <br>\n",
        "IBM, 142.3, 50, Buy <br>\n",
        "MSFT, 170.21, 100, Buy <br>\n",
        "GOOG, 1469.32, 15, Buy <br>\n",
        "IBM, 142.3, 20, Sell <br>\n",
        "C, 74.78, 100, Buy <br>\n",
        "CAT, 133.73, 80, Buy <br>\n",
        "C, 74.78, 200, Buy <br>\n",
        "GOOG, 1469.32, 7, Sell <br>\n",
        "C, 74.78, 80, Sell <br>"
      ]
    },
    {
      "cell_type": "code",
      "metadata": {
        "id": "IHOG8kbF8ucE",
        "colab_type": "code",
        "colab": {}
      },
      "source": [
        ""
      ],
      "execution_count": 0,
      "outputs": []
    }
  ]
}